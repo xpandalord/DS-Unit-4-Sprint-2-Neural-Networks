{
  "nbformat": 4,
  "nbformat_minor": 0,
  "metadata": {
    "colab": {
      "name": "LS_DS17_424_Deploy_Lecture.ipynb",
      "provenance": [],
      "collapsed_sections": []
    },
    "kernelspec": {
      "display_name": "U4-S2-NNF-DS10",
      "language": "python",
      "name": "u4-s2-nnf-ds10"
    },
    "language_info": {
      "codemirror_mode": {
        "name": "ipython",
        "version": 3
      },
      "file_extension": ".py",
      "mimetype": "text/x-python",
      "name": "python",
      "nbconvert_exporter": "python",
      "pygments_lexer": "ipython3",
      "version": "3.7.6"
    },
    "toc-autonumbering": false,
    "toc-showmarkdowntxt": false
  },
  "cells": [
    {
      "cell_type": "markdown",
      "metadata": {
        "colab_type": "text",
        "id": "HJzTIkYAsLxw"
      },
      "source": [
        "Lambda School Data Science\n",
        "\n",
        "*Unit 4, Sprint 2, Module 4*\n",
        "\n",
        "---"
      ]
    },
    {
      "cell_type": "markdown",
      "metadata": {
        "colab_type": "text",
        "id": "YCf3jDMVQHuI"
      },
      "source": [
        "# Neural Network Frameworks (Prepare)"
      ]
    },
    {
      "cell_type": "markdown",
      "metadata": {
        "colab_type": "text",
        "id": "GR0XBF5HQHuI"
      },
      "source": [
        "## Learning Objectives\n",
        "* <a href=\"#p1\">Part 1</a>: Implement Regularization Strategies\n",
        "* <a href=\"#p2\">Part 2</a>: Deploy a Keras Model\n",
        "* <a href=\"#p3\">Part 3</a>: Write a Custom Callback Function (Optional)\n",
        "\n",
        "Today's class will also focus heavily on Callback objects. We will use a variety of callbacks to monitor and manipulate our models based on data that our model produces at the end of an epoch.\n",
        "\n",
        "> A callback is an object that can perform actions at various stages of training (e.g. at the start or end of an epoch, before or after a single batch, etc). -- [Keras Documentation](https://keras.io/api/callbacks/)"
      ]
    },
    {
      "cell_type": "markdown",
      "metadata": {
        "colab_type": "text",
        "id": "TWuoXZCCKCI7"
      },
      "source": [
        "# Regularization Strategies (Learn)"
      ]
    },
    {
      "cell_type": "markdown",
      "metadata": {
        "id": "E3aMJZuPQHur",
        "colab_type": "text"
      },
      "source": [
        "## Overview\n",
        "\n",
        "Neural Networks are highly parameterized models and can be easily overfit to the training data. The most salient way to combat this problem is with regularization strategies.  \n",
        "\n",
        "![](https://upload.wikimedia.org/wikipedia/commons/thumb/0/02/Regularization.svg/1920px-Regularization.svg.png)\n",
        "\n",
        "There are four common ways of regularization in neural networks which we cover briefly. Here's a quick summary of how to apply them: \n",
        "\n",
        "1. Always use EarlyStopping. This strategy will prevent your weights from being updated well past the point of their peak usefulness.\n",
        "2. Use EarlyStopping, Weight Decay and Dropout\n",
        "3. Use EarlyStopping, Weight Constraint and Dropout\n",
        "4. Also think about the architecture (number of layers, neurons) - determines number of parameters, which is the basis of overfitting - but even \"small\" neural nets can be complicated and overfit!\n",
        "\n",
        "Weight Decay and Weigh Constraint accomplish similar purposes - preventing over fitting the parameters by regularizing the values. The mechanics are just slightly different. That's why you would not necessary want to apply them together."
      ]
    },
    {
      "cell_type": "markdown",
      "metadata": {
        "id": "3FFhK0tLQHus",
        "colab_type": "text"
      },
      "source": [
        "## Follow Along"
      ]
    },
    {
      "cell_type": "markdown",
      "metadata": {
        "id": "RO74ukb-QHus",
        "colab_type": "text"
      },
      "source": [
        "### Early Stopping"
      ]
    },
    {
      "cell_type": "code",
      "metadata": {
        "id": "xgQR_iCHSF1x",
        "colab_type": "code",
        "colab": {}
      },
      "source": [
        "%load_ext tensorboard"
      ],
      "execution_count": null,
      "outputs": []
    },
    {
      "cell_type": "code",
      "metadata": {
        "id": "f1GTvVzE6Wzo",
        "colab_type": "code",
        "colab": {
          "base_uri": "https://localhost:8080/",
          "height": 176
        },
        "outputId": "c8740bf9-3ed0-4b53-e163-0e7acd7ed926"
      },
      "source": [
        "from tensorflow.keras.datasets import fashion_mnist\n",
        "\n",
        "(X_train, y_train), (X_test, y_test) = fashion_mnist.load_data()"
      ],
      "execution_count": null,
      "outputs": [
        {
          "output_type": "stream",
          "text": [
            "Downloading data from https://storage.googleapis.com/tensorflow/tf-keras-datasets/train-labels-idx1-ubyte.gz\n",
            "32768/29515 [=================================] - 0s 0us/step\n",
            "Downloading data from https://storage.googleapis.com/tensorflow/tf-keras-datasets/train-images-idx3-ubyte.gz\n",
            "26427392/26421880 [==============================] - 1s 0us/step\n",
            "Downloading data from https://storage.googleapis.com/tensorflow/tf-keras-datasets/t10k-labels-idx1-ubyte.gz\n",
            "8192/5148 [===============================================] - 0s 0us/step\n",
            "Downloading data from https://storage.googleapis.com/tensorflow/tf-keras-datasets/t10k-images-idx3-ubyte.gz\n",
            "4423680/4422102 [==============================] - 0s 0us/step\n"
          ],
          "name": "stdout"
        }
      ]
    },
    {
      "cell_type": "code",
      "metadata": {
        "id": "lMl1AMzo6btD",
        "colab_type": "code",
        "colab": {
          "base_uri": "https://localhost:8080/",
          "height": 281
        },
        "outputId": "4c3c18b9-47e1-417a-d663-49c61ec3583f"
      },
      "source": [
        "import matplotlib.pyplot as plt\n",
        "\n",
        "plt.title(y_train[3])\n",
        "plt.imshow(X_train[3]);"
      ],
      "execution_count": null,
      "outputs": [
        {
          "output_type": "display_data",
          "data": {
            "image/png": "[encoded data removed]",
            "text/plain": [
              "<Figure size 432x288 with 1 Axes>"
            ]
          },
          "metadata": {
            "tags": [],
            "needs_background": "light"
          }
        }
      ]
    },
    {
      "cell_type": "code",
      "metadata": {
        "id": "7lKoNb426oU9",
        "colab_type": "code",
        "colab": {}
      },
      "source": [
        "X_train, X_test = X_train / 255., X_test / 255."
      ],
      "execution_count": null,
      "outputs": []
    },
    {
      "cell_type": "code",
      "metadata": {
        "id": "54VH_2Id66DI",
        "colab_type": "code",
        "colab": {
          "base_uri": "https://localhost:8080/",
          "height": 34
        },
        "outputId": "4dbdd57a-753d-44a5-9be2-6ef32c9c67bf"
      },
      "source": [
        "28 * 28  # Same feature size as MNIST"
      ],
      "execution_count": null,
      "outputs": [
        {
          "output_type": "execute_result",
          "data": {
            "text/plain": [
              "784"
            ]
          },
          "metadata": {
            "tags": []
          },
          "execution_count": 8
        }
      ]
    },
    {
      "cell_type": "code",
      "metadata": {
        "id": "AY1HomhxQHus",
        "colab_type": "code",
        "colab": {
          "base_uri": "https://localhost:8080/",
          "height": 332
        },
        "outputId": "f82fc317-c7eb-4881-88a5-5af652c4badc"
      },
      "source": [
        "from tensorflow.keras.callbacks import EarlyStopping, TensorBoard\n",
        "from tensorflow.keras.layers import Flatten, Dense\n",
        "from tensorflow.keras.layers import ReLU\n",
        "import tensorflow as tf\n",
        "import os\n",
        "\n",
        "logdir = os.path.join(\"logs\", \"EarlyStopping-Loss\")\n",
        "\n",
        "tensorboard_callback = tf.keras.callbacks.TensorBoard(logdir, histogram_freq=1)\n",
        "stop = EarlyStopping(monitor='val_loss', min_delta=0.01, patience=3)\n",
        "\n",
        "model = tf.keras.Sequential([\n",
        "    Flatten(input_shape=(28,28)),  # Treats as 784x1\n",
        "    Dense(128),\n",
        "    ReLU(negative_slope=.01),\n",
        "    Dense(128),\n",
        "    ReLU(negative_slope=.01),\n",
        "    Dense(128),\n",
        "    ReLU(negative_slope=.01),\n",
        "    Dense(10, activation='softmax')\n",
        "])\n",
        "\n",
        "model.compile(loss='sparse_categorical_crossentropy', optimizer='nadam',\n",
        "              metrics=['accuracy'])\n",
        "\n",
        "model.fit(X_train, y_train, epochs=99, \n",
        "          validation_data=(X_test,y_test),\n",
        "          callbacks=[tensorboard_callback, stop])"
      ],
      "execution_count": null,
      "outputs": [
        {
          "output_type": "stream",
          "text": [
            "Epoch 1/99\n",
            "   1/1875 [..............................] - ETA: 0s - loss: 2.3222 - accuracy: 0.0938WARNING:tensorflow:From /usr/local/lib/python3.6/dist-packages/tensorflow/python/ops/summary_ops_v2.py:1277: stop (from tensorflow.python.eager.profiler) is deprecated and will be removed after 2020-07-01.\n",
            "Instructions for updating:\n",
            "use `tf.profiler.experimental.stop` instead.\n",
            "WARNING:tensorflow:Callbacks method `on_train_batch_end` is slow compared to the batch time (batch time: 0.0090s vs `on_train_batch_end` time: 0.0378s). Check your callbacks.\n",
            "1875/1875 [==============================] - 8s 4ms/step - loss: 0.4772 - accuracy: 0.8264 - val_loss: 0.4049 - val_accuracy: 0.8542\n",
            "Epoch 2/99\n",
            "1875/1875 [==============================] - 7s 4ms/step - loss: 0.3530 - accuracy: 0.8712 - val_loss: 0.3626 - val_accuracy: 0.8705\n",
            "Epoch 3/99\n",
            "1875/1875 [==============================] - 7s 4ms/step - loss: 0.3232 - accuracy: 0.8810 - val_loss: 0.3439 - val_accuracy: 0.8739\n",
            "Epoch 4/99\n",
            "1875/1875 [==============================] - 7s 4ms/step - loss: 0.2999 - accuracy: 0.8884 - val_loss: 0.3391 - val_accuracy: 0.8770\n",
            "Epoch 5/99\n",
            "1875/1875 [==============================] - 7s 4ms/step - loss: 0.2832 - accuracy: 0.8958 - val_loss: 0.3431 - val_accuracy: 0.8748\n",
            "Epoch 6/99\n",
            "1875/1875 [==============================] - 7s 4ms/step - loss: 0.2698 - accuracy: 0.8993 - val_loss: 0.3691 - val_accuracy: 0.8666\n"
          ],
          "name": "stdout"
        },
        {
          "output_type": "execute_result",
          "data": {
            "text/plain": [
              "<tensorflow.python.keras.callbacks.History at 0x7f5a7015ab70>"
            ]
          },
          "metadata": {
            "tags": []
          },
          "execution_count": 9
        }
      ]
    },
    {
      "cell_type": "markdown",
      "metadata": {
        "id": "Y7ScqKUzQHuv",
        "colab_type": "text"
      },
      "source": [
        "### Weight Decay\n",
        "\n",
        "```python\n",
        "Dense(64, input_dim=64,\n",
        "            kernel_regularizer=regularizers.l2(0.01),\n",
        "            activity_regularizer=regularizers.l1(0.01)))\n",
        "```"
      ]
    },
    {
      "cell_type": "code",
      "metadata": {
        "id": "eQuacT-JQHuv",
        "colab_type": "code",
        "colab": {
          "base_uri": "https://localhost:8080/",
          "height": 315
        },
        "outputId": "0585c005-7dd2-4b78-ee2a-332012df74db"
      },
      "source": [
        "from tensorflow.keras import regularizers\n",
        "\n",
        "logdir = os.path.join(\"logs\", \"EarlyStopping+L2_WeightDecay\")\n",
        "tensorboard_callback = tf.keras.callbacks.TensorBoard(logdir, histogram_freq=1)\n",
        "\n",
        "stop = EarlyStopping(monitor='val_loss', min_delta=0.01, patience=3)\n",
        "\n",
        "model = tf.keras.Sequential([\n",
        "    Flatten(input_shape=(28,28)),\n",
        "    Dense(512, kernel_regularizer=regularizers.l2(0.01)),\n",
        "    ReLU(negative_slope=.01),\n",
        "    Dense(512, kernel_regularizer=regularizers.l2(0.01)),\n",
        "    ReLU(negative_slope=.01),\n",
        "    Dense(512, kernel_regularizer=regularizers.l2(0.01)),\n",
        "    ReLU(negative_slope=.01),\n",
        "    Dense(10, activation='softmax')\n",
        "])\n",
        "\n",
        "model.compile(loss='sparse_categorical_crossentropy', optimizer='nadam',\n",
        "              metrics=['accuracy'])\n",
        "\n",
        "model.fit(X_train, y_train, epochs=99, \n",
        "          validation_data=(X_test,y_test),\n",
        "          callbacks=[tensorboard_callback, stop])"
      ],
      "execution_count": null,
      "outputs": [
        {
          "output_type": "stream",
          "text": [
            "Epoch 1/99\n",
            "   2/1875 [..............................] - ETA: 1:18 - loss: 18.4687 - accuracy: 0.1406WARNING:tensorflow:Callbacks method `on_train_batch_end` is slow compared to the batch time (batch time: 0.0214s vs `on_train_batch_end` time: 0.0621s). Check your callbacks.\n",
            "1875/1875 [==============================] - 38s 20ms/step - loss: 1.3285 - accuracy: 0.7711 - val_loss: 0.7866 - val_accuracy: 0.7929\n",
            "Epoch 2/99\n",
            "1875/1875 [==============================] - 38s 20ms/step - loss: 0.7080 - accuracy: 0.8140 - val_loss: 0.7133 - val_accuracy: 0.8133\n",
            "Epoch 3/99\n",
            "1875/1875 [==============================] - 37s 20ms/step - loss: 0.6513 - accuracy: 0.8271 - val_loss: 0.6695 - val_accuracy: 0.8193\n",
            "Epoch 4/99\n",
            "1875/1875 [==============================] - 37s 20ms/step - loss: 0.6232 - accuracy: 0.8348 - val_loss: 0.6118 - val_accuracy: 0.8383\n",
            "Epoch 5/99\n",
            "1875/1875 [==============================] - 37s 20ms/step - loss: 0.6262 - accuracy: 0.8385 - val_loss: 0.6249 - val_accuracy: 0.8274\n",
            "Epoch 6/99\n",
            "1875/1875 [==============================] - 37s 20ms/step - loss: 0.5992 - accuracy: 0.8393 - val_loss: 1.4221 - val_accuracy: 0.8022\n",
            "Epoch 7/99\n",
            "1875/1875 [==============================] - 38s 20ms/step - loss: 0.6106 - accuracy: 0.8411 - val_loss: 0.6147 - val_accuracy: 0.8258\n"
          ],
          "name": "stdout"
        },
        {
          "output_type": "execute_result",
          "data": {
            "text/plain": [
              "<tensorflow.python.keras.callbacks.History at 0x7f5a62d86fd0>"
            ]
          },
          "metadata": {
            "tags": []
          },
          "execution_count": 11
        }
      ]
    },
    {
      "cell_type": "code",
      "metadata": {
        "id": "CWgfqejzAu8y",
        "colab_type": "code",
        "colab": {
          "base_uri": "https://localhost:8080/",
          "height": 434
        },
        "outputId": "9072ec5a-2410-4619-9d95-e127dc0959b1"
      },
      "source": [
        "model.summary()"
      ],
      "execution_count": null,
      "outputs": [
        {
          "output_type": "stream",
          "text": [
            "Model: \"sequential_2\"\n",
            "_________________________________________________________________\n",
            "Layer (type)                 Output Shape              Param #   \n",
            "=================================================================\n",
            "flatten_2 (Flatten)          (None, 784)               0         \n",
            "_________________________________________________________________\n",
            "dense_8 (Dense)              (None, 512)               401920    \n",
            "_________________________________________________________________\n",
            "re_lu_6 (ReLU)               (None, 512)               0         \n",
            "_________________________________________________________________\n",
            "dense_9 (Dense)              (None, 512)               262656    \n",
            "_________________________________________________________________\n",
            "re_lu_7 (ReLU)               (None, 512)               0         \n",
            "_________________________________________________________________\n",
            "dense_10 (Dense)             (None, 512)               262656    \n",
            "_________________________________________________________________\n",
            "re_lu_8 (ReLU)               (None, 512)               0         \n",
            "_________________________________________________________________\n",
            "dense_11 (Dense)             (None, 10)                5130      \n",
            "=================================================================\n",
            "Total params: 932,362\n",
            "Trainable params: 932,362\n",
            "Non-trainable params: 0\n",
            "_________________________________________________________________\n"
          ],
          "name": "stdout"
        }
      ]
    },
    {
      "cell_type": "code",
      "metadata": {
        "id": "xO1LvbaPA1jB",
        "colab_type": "code",
        "colab": {
          "base_uri": "https://localhost:8080/",
          "height": 822
        },
        "outputId": "3bfbb247-44f0-4cf3-f888-40dc8b49960f"
      },
      "source": [
        "%tensorboard --logdir logs"
      ],
      "execution_count": null,
      "outputs": [
        {
          "output_type": "display_data",
          "data": {
            "application/javascript": [
              "\n",
              "        (async () => {\n",
              "            const url = await google.colab.kernel.proxyPort(6006, {\"cache\": true});\n",
              "            const iframe = document.createElement('iframe');\n",
              "            iframe.src = url;\n",
              "            iframe.setAttribute('width', '100%');\n",
              "            iframe.setAttribute('height', '800');\n",
              "            iframe.setAttribute('frameborder', 0);\n",
              "            document.body.appendChild(iframe);\n",
              "        })();\n",
              "    "
            ],
            "text/plain": [
              "<IPython.core.display.Javascript object>"
            ]
          },
          "metadata": {
            "tags": []
          }
        }
      ]
    },
    {
      "cell_type": "markdown",
      "metadata": {
        "id": "aCJ1aUIfQHuy",
        "colab_type": "text"
      },
      "source": [
        "### Weight Constraint\n",
        "\n",
        "```python\n",
        "tf.keras.constraints.MaxNorm(\n",
        "    max_value=2, axis=0\n",
        ")\n",
        "```"
      ]
    },
    {
      "cell_type": "code",
      "metadata": {
        "id": "gbXBxr1QQHuy",
        "colab_type": "code",
        "colab": {
          "base_uri": "https://localhost:8080/",
          "height": 384
        },
        "outputId": "edb54eb4-b3e6-4777-c366-2f20f25ae0bf"
      },
      "source": [
        "from tensorflow.keras.constraints import MaxNorm\n",
        "\n",
        "wc = MaxNorm(max_value=2)\n",
        "\n",
        "logdir = os.path.join(\"logs\", \"EarlyStopping+WeightConstraint\")\n",
        "\n",
        "tensorboard_callback = tf.keras.callbacks.TensorBoard(logdir, histogram_freq=1)\n",
        "stop = EarlyStopping(monitor='val_loss', min_delta=0.01, patience=3)\n",
        "\n",
        "model = tf.keras.Sequential([\n",
        "    Flatten(input_shape=(28,28)),\n",
        "    Dense(512, kernel_constraint=wc),\n",
        "    ReLU(negative_slope=.01),\n",
        "    Dense(512, kernel_constraint=wc),\n",
        "    ReLU(negative_slope=.01),\n",
        "    Dense(512, kernel_constraint=wc),\n",
        "    ReLU(negative_slope=.01),\n",
        "    Dense(10, activation='softmax')\n",
        "])\n",
        "\n",
        "model.compile(loss='sparse_categorical_crossentropy', optimizer='nadam', metrics=['accuracy'])\n",
        "\n",
        "model.fit(X_train, y_train, epochs=99, \n",
        "          validation_data=(X_test,y_test),\n",
        "          callbacks=[tensorboard_callback, stop])"
      ],
      "execution_count": null,
      "outputs": [
        {
          "output_type": "stream",
          "text": [
            "Epoch 1/99\n",
            "   2/1875 [..............................] - ETA: 1:29 - loss: 2.2771 - accuracy: 0.2031WARNING:tensorflow:Callbacks method `on_train_batch_end` is slow compared to the batch time (batch time: 0.0236s vs `on_train_batch_end` time: 0.0721s). Check your callbacks.\n",
            "1875/1875 [==============================] - 37s 20ms/step - loss: 0.4696 - accuracy: 0.8282 - val_loss: 0.4013 - val_accuracy: 0.8521\n",
            "Epoch 2/99\n",
            "1875/1875 [==============================] - 37s 20ms/step - loss: 0.3519 - accuracy: 0.8718 - val_loss: 0.3834 - val_accuracy: 0.8634\n",
            "Epoch 3/99\n",
            "1875/1875 [==============================] - 37s 20ms/step - loss: 0.3234 - accuracy: 0.8805 - val_loss: 0.3729 - val_accuracy: 0.8625\n",
            "Epoch 4/99\n",
            "1875/1875 [==============================] - 38s 20ms/step - loss: 0.3084 - accuracy: 0.8839 - val_loss: 0.3509 - val_accuracy: 0.8752\n",
            "Epoch 5/99\n",
            "1875/1875 [==============================] - 37s 20ms/step - loss: 0.3001 - accuracy: 0.8895 - val_loss: 0.3555 - val_accuracy: 0.8752\n",
            "Epoch 6/99\n",
            "1875/1875 [==============================] - 38s 20ms/step - loss: 0.2905 - accuracy: 0.8911 - val_loss: 0.3274 - val_accuracy: 0.8834\n",
            "Epoch 7/99\n",
            "1875/1875 [==============================] - 37s 20ms/step - loss: 0.2827 - accuracy: 0.8932 - val_loss: 0.3833 - val_accuracy: 0.8702\n",
            "Epoch 8/99\n",
            "1875/1875 [==============================] - 38s 20ms/step - loss: 0.2805 - accuracy: 0.8956 - val_loss: 0.3692 - val_accuracy: 0.8737\n",
            "Epoch 9/99\n",
            "1875/1875 [==============================] - 38s 20ms/step - loss: 0.2764 - accuracy: 0.8961 - val_loss: 0.3446 - val_accuracy: 0.8797\n"
          ],
          "name": "stdout"
        },
        {
          "output_type": "execute_result",
          "data": {
            "text/plain": [
              "<tensorflow.python.keras.callbacks.History at 0x7f5a61b5d978>"
            ]
          },
          "metadata": {
            "tags": []
          },
          "execution_count": 14
        }
      ]
    },
    {
      "cell_type": "markdown",
      "metadata": {
        "id": "9-xMnXMsQHu0",
        "colab_type": "text"
      },
      "source": [
        "### Dropout"
      ]
    },
    {
      "cell_type": "code",
      "metadata": {
        "id": "MCRL8SmgQHu0",
        "colab_type": "code",
        "colab": {
          "base_uri": "https://localhost:8080/",
          "height": 384
        },
        "outputId": "ba44f4f3-5df9-4f5d-e827-688fc2e5f497"
      },
      "source": [
        "from tensorflow.keras.layers import Dropout\n",
        "\n",
        "from tensorflow.keras.constraints import MaxNorm\n",
        "\n",
        "wc = MaxNorm(max_value=2)\n",
        "\n",
        "logdir = os.path.join(\"logs\", \"EarlyStopping+WeightConstraint+Dropout\")\n",
        "\n",
        "tensorboard_callback = tf.keras.callbacks.TensorBoard(logdir, histogram_freq=1)\n",
        "stop = EarlyStopping(monitor='val_loss', min_delta=0.01, patience=3)\n",
        "\n",
        "model = tf.keras.Sequential([\n",
        "    Flatten(input_shape=(28,28)),\n",
        "    Dense(256, kernel_constraint=wc),\n",
        "    ReLU(negative_slope=.01),\n",
        "    Dropout(.2),\n",
        "    Dense(256, kernel_constraint=wc),\n",
        "    ReLU(negative_slope=.01),\n",
        "    Dropout(.2),\n",
        "    Dense(256, kernel_constraint=wc),\n",
        "    ReLU(negative_slope=.01),\n",
        "    Dropout(.2),\n",
        "    Dense(10, activation='softmax')\n",
        "])\n",
        "\n",
        "model.compile(loss='sparse_categorical_crossentropy', optimizer='nadam', metrics=['accuracy'])\n",
        "\n",
        "model.fit(X_train, y_train, epochs=99, \n",
        "          validation_data=(X_test,y_test),\n",
        "          callbacks=[tensorboard_callback, stop])"
      ],
      "execution_count": null,
      "outputs": [
        {
          "output_type": "stream",
          "text": [
            "Epoch 1/99\n",
            "   2/1875 [..............................] - ETA: 1:12 - loss: 2.3910 - accuracy: 0.1406WARNING:tensorflow:Callbacks method `on_train_batch_end` is slow compared to the batch time (batch time: 0.0125s vs `on_train_batch_end` time: 0.0644s). Check your callbacks.\n",
            "1875/1875 [==============================] - 16s 9ms/step - loss: 0.5304 - accuracy: 0.8086 - val_loss: 0.4292 - val_accuracy: 0.8452\n",
            "Epoch 2/99\n",
            "1875/1875 [==============================] - 16s 9ms/step - loss: 0.4056 - accuracy: 0.8515 - val_loss: 0.4088 - val_accuracy: 0.8538\n",
            "Epoch 3/99\n",
            "1875/1875 [==============================] - 16s 8ms/step - loss: 0.3785 - accuracy: 0.8622 - val_loss: 0.3968 - val_accuracy: 0.8599\n",
            "Epoch 4/99\n",
            "1875/1875 [==============================] - 16s 8ms/step - loss: 0.3701 - accuracy: 0.8658 - val_loss: 0.3854 - val_accuracy: 0.8672\n",
            "Epoch 5/99\n",
            "1875/1875 [==============================] - 16s 8ms/step - loss: 0.3597 - accuracy: 0.8697 - val_loss: 0.3679 - val_accuracy: 0.8662\n",
            "Epoch 6/99\n",
            "1875/1875 [==============================] - 16s 8ms/step - loss: 0.3551 - accuracy: 0.8687 - val_loss: 0.3558 - val_accuracy: 0.8671\n",
            "Epoch 7/99\n",
            "1875/1875 [==============================] - 16s 8ms/step - loss: 0.3518 - accuracy: 0.8701 - val_loss: 0.3685 - val_accuracy: 0.8669\n",
            "Epoch 8/99\n",
            "1875/1875 [==============================] - 16s 9ms/step - loss: 0.3496 - accuracy: 0.8709 - val_loss: 0.3617 - val_accuracy: 0.8636\n",
            "Epoch 9/99\n",
            "1875/1875 [==============================] - 17s 9ms/step - loss: 0.3482 - accuracy: 0.8709 - val_loss: 0.3571 - val_accuracy: 0.8739\n"
          ],
          "name": "stdout"
        },
        {
          "output_type": "execute_result",
          "data": {
            "text/plain": [
              "<tensorflow.python.keras.callbacks.History at 0x7f5a60e55fd0>"
            ]
          },
          "metadata": {
            "tags": []
          },
          "execution_count": 16
        }
      ]
    },
    {
      "cell_type": "code",
      "metadata": {
        "id": "RFAkmZbVQHu2",
        "colab_type": "code",
        "colab": {}
      },
      "source": [
        "%tensorboard --logdir logs"
      ],
      "execution_count": null,
      "outputs": []
    },
    {
      "cell_type": "markdown",
      "metadata": {
        "id": "HbV6zsdQQHu4",
        "colab_type": "text"
      },
      "source": [
        "## Challenge\n",
        "\n",
        "You will apply regularization strategies inside your neural network today, as you try to avoid overfitting it. \n",
        "\n",
        "---"
      ]
    },
    {
      "cell_type": "markdown",
      "metadata": {
        "id": "3MXbzdBdURod",
        "colab_type": "text"
      },
      "source": [
        "# Deploy (Learn)"
      ]
    },
    {
      "cell_type": "markdown",
      "metadata": {
        "id": "11LJtU9MUVD5",
        "colab_type": "text"
      },
      "source": [
        "## Overview\n",
        "\n",
        "You've built a dope image classification model, but it's just sitting your Jupyter Notebook. What now? Well you deploy to some down stream application. TensorFlow supports three ways of deploying it's models: \n",
        "\n",
        "- In-Browser with TensorFlow.js\n",
        "- API with TensorFlow Serving (TFX) or another Framework\n",
        "- On-Device with TensorFlow Lite\n",
        "\n",
        "You are already familiar with deploying a model as an API from Unit 3, so we will focus on deploying a model in browser. Both methods rely on the same core idea: save your weights and architecture information, load those parameters into application, and perform inference. \n",
        "\n"
      ]
    },
    {
      "cell_type": "markdown",
      "metadata": {
        "id": "IHca-4H2UU8p",
        "colab_type": "text"
      },
      "source": [
        "## Follow Along"
      ]
    },
    {
      "cell_type": "markdown",
      "metadata": {
        "id": "LgqQfelzZTL1",
        "colab_type": "text"
      },
      "source": [
        "### Train Your Model"
      ]
    },
    {
      "cell_type": "code",
      "metadata": {
        "id": "Neds_0D2ZR9g",
        "colab_type": "code",
        "colab": {
          "base_uri": "https://localhost:8080/",
          "height": 173
        },
        "outputId": "8ba2a1b0-7fe3-410b-d092-ca08fa40237a"
      },
      "source": [
        "import tensorflow as tf\n",
        "\n",
        "cpoint = tf.keras.callbacks.ModelCheckpoint(\"weights_best.h5\",\n",
        "                                            verbose=1, \n",
        "                                            save_weights_only=True)\n",
        "\n",
        "def create_model():\n",
        "  model = tf.keras.Sequential([\n",
        "      Flatten(input_shape=(28,28)),\n",
        "      Dense(128),\n",
        "      ReLU(negative_slope=.01),\n",
        "      Dense(128),\n",
        "      ReLU(negative_slope=.01),\n",
        "      Dense(128),\n",
        "      ReLU(negative_slope=.01),\n",
        "      Dense(10, activation='softmax')\n",
        "  ])\n",
        "\n",
        "  model.compile(loss='sparse_categorical_crossentropy', optimizer='nadam',\n",
        "                metrics=['accuracy'])\n",
        "\n",
        "  return model\n",
        "\n",
        "model = create_model()\n",
        "\n",
        "model.fit(X_train, y_train, epochs=2, \n",
        "          validation_data=(X_test,y_test),\n",
        "          verbose=2,\n",
        "          callbacks=[cpoint])"
      ],
      "execution_count": null,
      "outputs": [
        {
          "output_type": "stream",
          "text": [
            "Epoch 1/2\n",
            "\n",
            "Epoch 00001: saving model to weights_best.h5\n",
            "1875/1875 - 7s - loss: 0.4755 - accuracy: 0.8271 - val_loss: 0.4480 - val_accuracy: 0.8377\n",
            "Epoch 2/2\n",
            "\n",
            "Epoch 00002: saving model to weights_best.h5\n",
            "1875/1875 - 7s - loss: 0.3519 - accuracy: 0.8697 - val_loss: 0.3781 - val_accuracy: 0.8651\n"
          ],
          "name": "stdout"
        },
        {
          "output_type": "execute_result",
          "data": {
            "text/plain": [
              "<tensorflow.python.keras.callbacks.History at 0x7f5a60bf76a0>"
            ]
          },
          "metadata": {
            "tags": []
          },
          "execution_count": 17
        }
      ]
    },
    {
      "cell_type": "code",
      "metadata": {
        "id": "50dK2VnuHMZm",
        "colab_type": "code",
        "colab": {
          "base_uri": "https://localhost:8080/",
          "height": 52
        },
        "outputId": "42c5c5d2-1002-40b8-8b20-6548d91a0744"
      },
      "source": [
        "model.evaluate(X_test, y_test)"
      ],
      "execution_count": null,
      "outputs": [
        {
          "output_type": "stream",
          "text": [
            "313/313 [==============================] - 0s 1ms/step - loss: 0.3781 - accuracy: 0.8651\n"
          ],
          "name": "stdout"
        },
        {
          "output_type": "execute_result",
          "data": {
            "text/plain": [
              "[0.37806665897369385, 0.8651000261306763]"
            ]
          },
          "metadata": {
            "tags": []
          },
          "execution_count": 18
        }
      ]
    },
    {
      "cell_type": "markdown",
      "metadata": {
        "id": "SVSTU7UJZYI1",
        "colab_type": "text"
      },
      "source": [
        "### Load Exported Model"
      ]
    },
    {
      "cell_type": "code",
      "metadata": {
        "id": "IfePv6zXHQoq",
        "colab_type": "code",
        "colab": {
          "base_uri": "https://localhost:8080/",
          "height": 434
        },
        "outputId": "d135edab-7f32-441f-efd2-4809f971687e"
      },
      "source": [
        "m = create_model()  # Start with same architecture\n",
        "m.load_weights('./weights_best.h5')  # Load instead of train\n",
        "m.summary()"
      ],
      "execution_count": null,
      "outputs": [
        {
          "output_type": "stream",
          "text": [
            "Model: \"sequential_7\"\n",
            "_________________________________________________________________\n",
            "Layer (type)                 Output Shape              Param #   \n",
            "=================================================================\n",
            "flatten_7 (Flatten)          (None, 784)               0         \n",
            "_________________________________________________________________\n",
            "dense_28 (Dense)             (None, 128)               100480    \n",
            "_________________________________________________________________\n",
            "re_lu_21 (ReLU)              (None, 128)               0         \n",
            "_________________________________________________________________\n",
            "dense_29 (Dense)             (None, 128)               16512     \n",
            "_________________________________________________________________\n",
            "re_lu_22 (ReLU)              (None, 128)               0         \n",
            "_________________________________________________________________\n",
            "dense_30 (Dense)             (None, 128)               16512     \n",
            "_________________________________________________________________\n",
            "re_lu_23 (ReLU)              (None, 128)               0         \n",
            "_________________________________________________________________\n",
            "dense_31 (Dense)             (None, 10)                1290      \n",
            "=================================================================\n",
            "Total params: 134,794\n",
            "Trainable params: 134,794\n",
            "Non-trainable params: 0\n",
            "_________________________________________________________________\n"
          ],
          "name": "stdout"
        }
      ]
    },
    {
      "cell_type": "code",
      "metadata": {
        "id": "os-eSxMbHb3s",
        "colab_type": "code",
        "colab": {
          "base_uri": "https://localhost:8080/",
          "height": 52
        },
        "outputId": "e1418c04-737e-4de6-a9e6-16faad1479ae"
      },
      "source": [
        "m.evaluate(X_test, y_test)"
      ],
      "execution_count": null,
      "outputs": [
        {
          "output_type": "stream",
          "text": [
            "313/313 [==============================] - 0s 1ms/step - loss: 0.3781 - accuracy: 0.8651\n"
          ],
          "name": "stdout"
        },
        {
          "output_type": "execute_result",
          "data": {
            "text/plain": [
              "[0.37806665897369385, 0.8651000261306763]"
            ]
          },
          "metadata": {
            "tags": []
          },
          "execution_count": 20
        }
      ]
    },
    {
      "cell_type": "code",
      "metadata": {
        "id": "kI8KHA87UUU1",
        "colab_type": "code",
        "colab": {
          "base_uri": "https://localhost:8080/",
          "height": 332
        },
        "outputId": "13a47563-4f39-40ef-9b61-778842a04826"
      },
      "source": [
        "# Save entire model\n",
        "# i.e. both weights and architecture\n",
        "# Create and train a new model instance.\n",
        "model = create_model()\n",
        "model.fit(X_train, y_train, epochs=5)\n",
        "\n",
        "# Save the entire model as a SavedModel.\n",
        "!mkdir -p saved_model\n",
        "model.save('saved_model/my_model') "
      ],
      "execution_count": null,
      "outputs": [
        {
          "output_type": "stream",
          "text": [
            "Epoch 1/5\n",
            "1875/1875 [==============================] - 7s 4ms/step - loss: 0.4682 - accuracy: 0.8295\n",
            "Epoch 2/5\n",
            "1875/1875 [==============================] - 7s 4ms/step - loss: 0.3516 - accuracy: 0.8712\n",
            "Epoch 3/5\n",
            "1875/1875 [==============================] - 7s 4ms/step - loss: 0.3194 - accuracy: 0.8826\n",
            "Epoch 4/5\n",
            "1875/1875 [==============================] - 7s 4ms/step - loss: 0.2973 - accuracy: 0.8898\n",
            "Epoch 5/5\n",
            "1875/1875 [==============================] - 7s 4ms/step - loss: 0.2816 - accuracy: 0.8960\n",
            "WARNING:tensorflow:From /usr/local/lib/python3.6/dist-packages/tensorflow/python/training/tracking/tracking.py:111: Model.state_updates (from tensorflow.python.keras.engine.training) is deprecated and will be removed in a future version.\n",
            "Instructions for updating:\n",
            "This property should not be used in TensorFlow 2.0, as updates are applied automatically.\n",
            "WARNING:tensorflow:From /usr/local/lib/python3.6/dist-packages/tensorflow/python/training/tracking/tracking.py:111: Layer.updates (from tensorflow.python.keras.engine.base_layer) is deprecated and will be removed in a future version.\n",
            "Instructions for updating:\n",
            "This property should not be used in TensorFlow 2.0, as updates are applied automatically.\n",
            "INFO:tensorflow:Assets written to: saved_model/my_model/assets\n"
          ],
          "name": "stdout"
        }
      ]
    },
    {
      "cell_type": "code",
      "metadata": {
        "id": "bZrXFdjDIMa_",
        "colab_type": "code",
        "colab": {
          "base_uri": "https://localhost:8080/",
          "height": 52
        },
        "outputId": "5ea4092a-78ca-4e1c-9cca-7be2932b2cbb"
      },
      "source": [
        "model.evaluate(X_test, y_test)"
      ],
      "execution_count": null,
      "outputs": [
        {
          "output_type": "stream",
          "text": [
            "313/313 [==============================] - 0s 1ms/step - loss: 0.3514 - accuracy: 0.8700\n"
          ],
          "name": "stdout"
        },
        {
          "output_type": "execute_result",
          "data": {
            "text/plain": [
              "[0.35136768221855164, 0.8700000047683716]"
            ]
          },
          "metadata": {
            "tags": []
          },
          "execution_count": 24
        }
      ]
    },
    {
      "cell_type": "code",
      "metadata": {
        "id": "aTgNxYlrH2N9",
        "colab_type": "code",
        "colab": {
          "base_uri": "https://localhost:8080/",
          "height": 434
        },
        "outputId": "674f4c48-1bc1-4981-844f-550ad5971ce3"
      },
      "source": [
        "# Load it back fresh, including weights and architecture\n",
        "\n",
        "new_model = tf.keras.models.load_model('saved_model/my_model')\n",
        "new_model.summary()"
      ],
      "execution_count": null,
      "outputs": [
        {
          "output_type": "stream",
          "text": [
            "Model: \"sequential_8\"\n",
            "_________________________________________________________________\n",
            "Layer (type)                 Output Shape              Param #   \n",
            "=================================================================\n",
            "flatten_8 (Flatten)          (None, 784)               0         \n",
            "_________________________________________________________________\n",
            "dense_32 (Dense)             (None, 128)               100480    \n",
            "_________________________________________________________________\n",
            "re_lu_24 (ReLU)              (None, 128)               0         \n",
            "_________________________________________________________________\n",
            "dense_33 (Dense)             (None, 128)               16512     \n",
            "_________________________________________________________________\n",
            "re_lu_25 (ReLU)              (None, 128)               0         \n",
            "_________________________________________________________________\n",
            "dense_34 (Dense)             (None, 128)               16512     \n",
            "_________________________________________________________________\n",
            "re_lu_26 (ReLU)              (None, 128)               0         \n",
            "_________________________________________________________________\n",
            "dense_35 (Dense)             (None, 10)                1290      \n",
            "=================================================================\n",
            "Total params: 134,794\n",
            "Trainable params: 134,794\n",
            "Non-trainable params: 0\n",
            "_________________________________________________________________\n"
          ],
          "name": "stdout"
        }
      ]
    },
    {
      "cell_type": "code",
      "metadata": {
        "id": "HaV3wafoItlT",
        "colab_type": "code",
        "colab": {
          "base_uri": "https://localhost:8080/",
          "height": 156
        },
        "outputId": "82e4b0ce-0a23-472b-853c-2a980c18be02"
      },
      "source": [
        "!ls -alh  # Half a meg for a model"
      ],
      "execution_count": null,
      "outputs": [
        {
          "output_type": "stream",
          "text": [
            "total 572K\n",
            "drwxr-xr-x 1 root root 4.0K Sep 10 17:46 .\n",
            "drwxr-xr-x 1 root root 4.0K Sep 10 16:41 ..\n",
            "drwxr-xr-x 1 root root 4.0K Aug 31 16:13 .config\n",
            "drwxr-xr-x 6 root root 4.0K Sep 10 17:26 logs\n",
            "drwxr-xr-x 1 root root 4.0K Aug 27 16:39 sample_data\n",
            "drwxr-xr-x 3 root root 4.0K Sep 10 17:46 saved_model\n",
            "-rw-r--r-- 1 root root 547K Sep 10 17:41 weights_best.h5\n"
          ],
          "name": "stdout"
        }
      ]
    },
    {
      "cell_type": "code",
      "metadata": {
        "id": "DFTk1TWNKuKf",
        "colab_type": "code",
        "colab": {}
      },
      "source": [
        "# One way to reduce size - reduce architecture! (# of layers, neurons)"
      ],
      "execution_count": null,
      "outputs": []
    },
    {
      "cell_type": "code",
      "metadata": {
        "id": "8OMhZb7zKFoL",
        "colab_type": "code",
        "colab": {
          "base_uri": "https://localhost:8080/",
          "height": 34
        },
        "outputId": "f0481a28-b88f-4500-bb9c-8af6b688cc90"
      },
      "source": [
        "float(3.1415926535897932384626)  # It loses some numbers!"
      ],
      "execution_count": null,
      "outputs": [
        {
          "output_type": "execute_result",
          "data": {
            "text/plain": [
              "3.141592653589793"
            ]
          },
          "metadata": {
            "tags": []
          },
          "execution_count": 31
        }
      ]
    },
    {
      "cell_type": "code",
      "metadata": {
        "id": "dkn9dRYHKWzs",
        "colab_type": "code",
        "colab": {
          "base_uri": "https://localhost:8080/",
          "height": 34
        },
        "outputId": "ba3d7fa4-b90b-427f-e187-8012bafbc30d"
      },
      "source": [
        "# Floating point numbers are stored at a certain precision\n",
        "# in number of bits - e.g. 16, 32, etc.\n",
        "# Above that precision, numbers are rounded off\n",
        "\n",
        "# When you train, you want full precision! Training is sensitive...\n",
        "# But at the very end, it may be okay to reduce\n",
        "\n",
        "# Another way to reduce size - go from e.g. 32 bit numbers\n",
        "# to 16 or 8 bit numbers\n",
        "# Basically truncate/round numbers\n",
        "float(3.14159)"
      ],
      "execution_count": null,
      "outputs": [
        {
          "output_type": "execute_result",
          "data": {
            "text/plain": [
              "3.14159"
            ]
          },
          "metadata": {
            "tags": []
          },
          "execution_count": 32
        }
      ]
    },
    {
      "cell_type": "code",
      "metadata": {
        "id": "CtoVzoMOLC5U",
        "colab_type": "code",
        "colab": {}
      },
      "source": [
        "# Keep same number of parameters, but less info/detail per parameter"
      ],
      "execution_count": null,
      "outputs": []
    },
    {
      "cell_type": "markdown",
      "metadata": {
        "id": "d6mAg8tpZdzd",
        "colab_type": "text"
      },
      "source": [
        "### Move Weights to Web Application\n",
        "\n",
        "Not all models are small enough to work well in-browser. Many neural networks are deploy as micro-service APIs. Micro-service APIs are the architecture you studied during Unit 3. "
      ]
    },
    {
      "cell_type": "code",
      "metadata": {
        "id": "0Iz_yr_7ZmGc",
        "colab_type": "code",
        "colab": {}
      },
      "source": [
        "# Stretch - https://www.tensorflow.org/js"
      ],
      "execution_count": null,
      "outputs": []
    },
    {
      "cell_type": "markdown",
      "metadata": {
        "id": "9i7OMOhzc6WT",
        "colab_type": "text"
      },
      "source": [
        "## Challenge\n",
        "\n",
        "You will be expected to be able to export your model weights and architecutre on the assignment."
      ]
    },
    {
      "cell_type": "markdown",
      "metadata": {
        "id": "rXnXxPCZiAb2",
        "colab_type": "text"
      },
      "source": [
        "# Custom Callbacks (Learn)"
      ]
    },
    {
      "cell_type": "markdown",
      "metadata": {
        "id": "z6vO6xbkiFGb",
        "colab_type": "text"
      },
      "source": [
        "## Overview\n",
        "\n",
        "Custom callbacks all you to access data at any point during the training: on batch end, on epoch end, on epoch start, on batch start. Our use case today is a simple one. Let's stop training once we reach a benchmark accuracy."
      ]
    },
    {
      "cell_type": "markdown",
      "metadata": {
        "id": "lCocRF5CiYG_",
        "colab_type": "text"
      },
      "source": [
        "## Follow Along"
      ]
    },
    {
      "cell_type": "code",
      "metadata": {
        "id": "gmtMJBBriD2Q",
        "colab_type": "code",
        "colab": {}
      },
      "source": [
        ""
      ],
      "execution_count": null,
      "outputs": []
    },
    {
      "cell_type": "markdown",
      "metadata": {
        "id": "bOisQxYlibOi",
        "colab_type": "text"
      },
      "source": [
        "## Challenge\n",
        "\n",
        "Experiment with improving our custom callback function. "
      ]
    }
  ]
}