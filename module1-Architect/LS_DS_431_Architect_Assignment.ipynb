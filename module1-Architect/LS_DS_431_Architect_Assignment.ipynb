{
  "nbformat": 4,
  "nbformat_minor": 0,
  "metadata": {
    "accelerator": "GPU",
    "colab": {
      "name": "LS_DS_431_Architect_Assignment.ipynb",
      "provenance": [],
      "collapsed_sections": []
    },
    "kernelspec": {
      "display_name": "Python 3",
      "language": "python",
      "name": "python3"
    },
    "language_info": {
      "codemirror_mode": {
        "name": "ipython",
        "version": 3
      },
      "file_extension": ".py",
      "mimetype": "text/x-python",
      "name": "python",
      "nbconvert_exporter": "python",
      "pygments_lexer": "ipython3",
      "version": "3.8.5"
    }
  },
  "cells": [
    {
      "cell_type": "markdown",
      "metadata": {
        "colab_type": "text",
        "id": "ObyHCH8HvHSf"
      },
      "source": [
        "<img align=\"left\" src=\"https://lever-client-logos.s3.amazonaws.com/864372b1-534c-480e-acd5-9711f850815c-1524247202159.png\" width=200>\n",
        "<br></br>\n",
        "<br></br>\n",
        "\n",
        "# *Data Science Unit 4 Sprint 2 Assignment 1*\n",
        "\n",
        "Use TensorFlow Keras & a sample of the [Quickdraw dataset](https://github.com/googlecreativelab/quickdraw-dataset) to build a sketch classification model. The dataset has been sampled to only 10 classes and 10000 observations per class. Please build a baseline classification model then run a few experiments with different optimizers and learning rates. \n",
        "\n",
        "*Don't forgot to switch to GPU on Colab!*"
      ]
    },
    {
      "cell_type": "markdown",
      "metadata": {
        "colab_type": "text",
        "id": "s-Tc3ovEyQ9b"
      },
      "source": [
        "## Load Your Data"
      ]
    },
    {
      "cell_type": "code",
      "metadata": {
        "colab_type": "code",
        "id": "CkU0pAYCvU8o",
        "colab": {
          "base_uri": "https://localhost:8080/",
          "height": 51
        },
        "outputId": "69d141ac-c421-445e-b8e6-a7e11a7cff06"
      },
      "source": [
        "import numpy as np\n",
        "import tensorflow as tf \n",
        "\n",
        "data = np.load('quickdraw10.npz')\n",
        "X = data['arr_0']\n",
        "y = data['arr_1']\n",
        "\n",
        "print(X.shape)\n",
        "print(y.shape)"
      ],
      "execution_count": 1,
      "outputs": [
        {
          "output_type": "stream",
          "text": [
            "(100000, 784)\n",
            "(100000,)\n"
          ],
          "name": "stdout"
        }
      ]
    },
    {
      "cell_type": "code",
      "metadata": {
        "colab_type": "code",
        "id": "c8qsDqdqvHDd",
        "colab": {}
      },
      "source": [
        "class_names = ['apple',\n",
        " 'anvil',\n",
        " 'airplane',\n",
        " 'banana',\n",
        " 'The Eiffel Tower',\n",
        " 'The Mona Lisa',\n",
        " 'The Great Wall of China',\n",
        " 'alarm clock',\n",
        " 'ant',\n",
        " 'asparagus']"
      ],
      "execution_count": 2,
      "outputs": []
    },
    {
      "cell_type": "code",
      "metadata": {
        "colab_type": "code",
        "id": "Owbm1EbxvA5A",
        "colab": {
          "base_uri": "https://localhost:8080/",
          "height": 289
        },
        "outputId": "060da5ac-c641-47c1-b7bd-0e418c58b268"
      },
      "source": [
        "import matplotlib.pyplot as plt\n",
        "plt.figure(figsize=(10,5))\n",
        "start = 0\n",
        "\n",
        "for num, name in enumerate(class_names):\n",
        "    plt.subplot(2,5, num+1)\n",
        "    plt.xticks([])\n",
        "    plt.yticks([])\n",
        "    plt.grid(False)\n",
        "    plt.imshow(X[start].reshape(28,28), cmap=plt.cm.binary)\n",
        "    plt.xlabel(name)\n",
        "    start += 10000\n",
        "plt.show()"
      ],
      "execution_count": 3,
      "outputs": [
        {
          "output_type": "display_data",
          "data": {
            "image/png": "[encoded data removed]",
            "text/plain": [
              "<Figure size 720x360 with 10 Axes>"
            ]
          },
          "metadata": {
            "tags": []
          }
        }
      ]
    },
    {
      "cell_type": "code",
      "metadata": {
        "colab_type": "code",
        "id": "c97_M1WNvTNY",
        "colab": {}
      },
      "source": [
        "# Need this line to randomly shuffle both the X & y at the same time.\n",
        "\n",
        "from sklearn.utils import shuffle\n",
        "X, y = shuffle(X, y)"
      ],
      "execution_count": 4,
      "outputs": []
    },
    {
      "cell_type": "markdown",
      "metadata": {
        "colab_type": "text",
        "id": "jb70CbLVyK65"
      },
      "source": [
        "## Build Your Baseline Model\n",
        "Some Hints:\n",
        "\n",
        "\n",
        "*  Model should have 784 input values (like mnist)\n",
        "*  Use `sparse_categorical_crossentropy` as your loss function.\n",
        "* You need 10 neurons in your last layer for output\n",
        "* You can add as many hidden layers with as many neurons in them as you like. \n",
        "* Limit your model epochs to 30 each time you fit.\n",
        "* You can use the `validation_split` command to automatically create a training / validation dataset.  Specify a percentage such as .2 in your fit statement. \n",
        "\n"
      ]
    },
    {
      "cell_type": "code",
      "metadata": {
        "colab_type": "code",
        "id": "zHWblzsMyNkU",
        "colab": {}
      },
      "source": [
        "import tensorflow as tf\n",
        "# Our Model\n",
        "from tensorflow.keras import Sequential\n",
        "from tensorflow.keras.layers import Dense\n",
        "from tensorflow.keras.optimizers import SGD\n",
        "\n",
        "def create_model(lr=.01):\n",
        "  opt = SGD(learning_rate=lr)\n",
        "\n",
        "  model = Sequential(\n",
        "      [\n",
        "       Dense(32, activation='relu', input_dim=784),\n",
        "       Dense(32, activation='relu'),\n",
        "       Dense(10, activation='softmax')       \n",
        "      ]\n",
        ")\n",
        "  model.compile(optimizer=opt, loss='sparse_categorical_crossentropy',\n",
        "                metrics=['accuracy'])\n",
        "  return model"
      ],
      "execution_count": 15,
      "outputs": []
    },
    {
      "cell_type": "code",
      "metadata": {
        "id": "2IbMheHeWf-I",
        "colab_type": "code",
        "colab": {
          "base_uri": "https://localhost:8080/",
          "height": 255
        },
        "outputId": "faba6bd8-ddb9-469e-ca51-72bafe7d70f5"
      },
      "source": [
        "quickdraw_model = create_model()\n",
        "quickdraw_model.summary()"
      ],
      "execution_count": 6,
      "outputs": [
        {
          "output_type": "stream",
          "text": [
            "Model: \"sequential\"\n",
            "_________________________________________________________________\n",
            "Layer (type)                 Output Shape              Param #   \n",
            "=================================================================\n",
            "dense (Dense)                (None, 32)                25120     \n",
            "_________________________________________________________________\n",
            "dense_1 (Dense)              (None, 32)                1056      \n",
            "_________________________________________________________________\n",
            "dense_2 (Dense)              (None, 10)                330       \n",
            "=================================================================\n",
            "Total params: 26,506\n",
            "Trainable params: 26,506\n",
            "Non-trainable params: 0\n",
            "_________________________________________________________________\n"
          ],
          "name": "stdout"
        }
      ]
    },
    {
      "cell_type": "code",
      "metadata": {
        "id": "ULkiElXWWmFy",
        "colab_type": "code",
        "colab": {}
      },
      "source": [
        "from sklearn.model_selection import train_test_split\n",
        "X_train, X_val, y_train, y_val = train_test_split(X, y,\n",
        "                                                    test_size=0.2,\n",
        "                                                    random_state=42 )"
      ],
      "execution_count": 8,
      "outputs": []
    },
    {
      "cell_type": "code",
      "metadata": {
        "id": "ygDTVv4cXykC",
        "colab_type": "code",
        "colab": {
          "base_uri": "https://localhost:8080/",
          "height": 1000
        },
        "outputId": "bb07f358-c78e-48c1-ce22-f571fac719e6"
      },
      "source": [
        "baseline = quickdraw_model.fit(X_train, y_train,\n",
        "                           epochs=30,\n",
        "                           validation_data=(X_val, y_val))"
      ],
      "execution_count": 11,
      "outputs": [
        {
          "output_type": "stream",
          "text": [
            "Epoch 1/30\n",
            "2500/2500 [==============================] - 5s 2ms/step - loss: 2.3025 - accuracy: 0.0998 - val_loss: 2.3110 - val_accuracy: 0.0981\n",
            "Epoch 2/30\n",
            "2500/2500 [==============================] - 5s 2ms/step - loss: 2.3026 - accuracy: 0.0975 - val_loss: 2.3110 - val_accuracy: 0.0981\n",
            "Epoch 3/30\n",
            "2500/2500 [==============================] - 6s 2ms/step - loss: 2.3026 - accuracy: 0.0980 - val_loss: 2.3109 - val_accuracy: 0.0987\n",
            "Epoch 4/30\n",
            "2500/2500 [==============================] - 6s 2ms/step - loss: 2.3026 - accuracy: 0.0994 - val_loss: 2.3109 - val_accuracy: 0.0981\n",
            "Epoch 5/30\n",
            "2500/2500 [==============================] - 6s 2ms/step - loss: 2.3025 - accuracy: 0.1000 - val_loss: 2.3110 - val_accuracy: 0.0981\n",
            "Epoch 6/30\n",
            "2500/2500 [==============================] - 5s 2ms/step - loss: 2.3026 - accuracy: 0.0988 - val_loss: 2.3110 - val_accuracy: 0.0981\n",
            "Epoch 7/30\n",
            "2500/2500 [==============================] - 5s 2ms/step - loss: 2.3025 - accuracy: 0.1013 - val_loss: 2.3110 - val_accuracy: 0.0965\n",
            "Epoch 8/30\n",
            "2500/2500 [==============================] - 5s 2ms/step - loss: 2.3025 - accuracy: 0.0995 - val_loss: 2.3110 - val_accuracy: 0.1000\n",
            "Epoch 9/30\n",
            "2500/2500 [==============================] - 5s 2ms/step - loss: 2.3025 - accuracy: 0.0982 - val_loss: 2.3109 - val_accuracy: 0.0987\n",
            "Epoch 10/30\n",
            "2500/2500 [==============================] - 6s 2ms/step - loss: 2.3026 - accuracy: 0.0981 - val_loss: 2.3110 - val_accuracy: 0.0991\n",
            "Epoch 11/30\n",
            "2500/2500 [==============================] - 5s 2ms/step - loss: 2.3026 - accuracy: 0.0994 - val_loss: 2.3109 - val_accuracy: 0.0981\n",
            "Epoch 12/30\n",
            "2500/2500 [==============================] - 5s 2ms/step - loss: 2.3026 - accuracy: 0.0997 - val_loss: 2.3110 - val_accuracy: 0.0965\n",
            "Epoch 13/30\n",
            "2500/2500 [==============================] - 5s 2ms/step - loss: 2.3025 - accuracy: 0.0996 - val_loss: 2.3110 - val_accuracy: 0.0965\n",
            "Epoch 14/30\n",
            "2500/2500 [==============================] - 5s 2ms/step - loss: 2.3026 - accuracy: 0.0993 - val_loss: 2.3110 - val_accuracy: 0.0991\n",
            "Epoch 15/30\n",
            "2500/2500 [==============================] - 6s 2ms/step - loss: 2.3026 - accuracy: 0.0994 - val_loss: 2.3110 - val_accuracy: 0.0965\n",
            "Epoch 16/30\n",
            "2500/2500 [==============================] - 6s 2ms/step - loss: 2.3026 - accuracy: 0.0991 - val_loss: 2.3110 - val_accuracy: 0.0987\n",
            "Epoch 17/30\n",
            "2500/2500 [==============================] - 6s 2ms/step - loss: 2.3026 - accuracy: 0.0984 - val_loss: 2.3109 - val_accuracy: 0.0981\n",
            "Epoch 18/30\n",
            "2500/2500 [==============================] - 6s 3ms/step - loss: 2.3026 - accuracy: 0.1007 - val_loss: 2.3109 - val_accuracy: 0.0965\n",
            "Epoch 19/30\n",
            "2500/2500 [==============================] - 6s 2ms/step - loss: 2.3026 - accuracy: 0.1001 - val_loss: 2.3110 - val_accuracy: 0.0981\n",
            "Epoch 20/30\n",
            "2500/2500 [==============================] - 6s 2ms/step - loss: 2.3026 - accuracy: 0.0997 - val_loss: 2.3110 - val_accuracy: 0.0991\n",
            "Epoch 21/30\n",
            "2500/2500 [==============================] - 6s 2ms/step - loss: 2.3026 - accuracy: 0.0978 - val_loss: 2.3109 - val_accuracy: 0.0991\n",
            "Epoch 22/30\n",
            "2500/2500 [==============================] - 6s 2ms/step - loss: 2.3026 - accuracy: 0.0985 - val_loss: 2.3110 - val_accuracy: 0.0987\n",
            "Epoch 23/30\n",
            "2500/2500 [==============================] - 6s 2ms/step - loss: 2.3025 - accuracy: 0.1016 - val_loss: 2.3109 - val_accuracy: 0.0965\n",
            "Epoch 24/30\n",
            "2500/2500 [==============================] - 6s 2ms/step - loss: 2.3026 - accuracy: 0.0985 - val_loss: 2.3110 - val_accuracy: 0.0965\n",
            "Epoch 25/30\n",
            "2500/2500 [==============================] - 6s 2ms/step - loss: 2.3026 - accuracy: 0.1007 - val_loss: 2.3110 - val_accuracy: 0.0965\n",
            "Epoch 26/30\n",
            "2500/2500 [==============================] - 6s 2ms/step - loss: 2.3025 - accuracy: 0.0996 - val_loss: 2.3110 - val_accuracy: 0.0991\n",
            "Epoch 27/30\n",
            "2500/2500 [==============================] - 6s 2ms/step - loss: 2.3026 - accuracy: 0.0995 - val_loss: 2.3109 - val_accuracy: 0.0981\n",
            "Epoch 28/30\n",
            "2500/2500 [==============================] - 6s 2ms/step - loss: 2.3026 - accuracy: 0.0989 - val_loss: 2.3110 - val_accuracy: 0.0991\n",
            "Epoch 29/30\n",
            "2500/2500 [==============================] - 6s 2ms/step - loss: 2.3026 - accuracy: 0.0994 - val_loss: 2.3110 - val_accuracy: 0.0981\n",
            "Epoch 30/30\n",
            "2500/2500 [==============================] - 5s 2ms/step - loss: 2.3026 - accuracy: 0.1001 - val_loss: 2.3110 - val_accuracy: 0.0981\n"
          ],
          "name": "stdout"
        }
      ]
    },
    {
      "cell_type": "markdown",
      "metadata": {
        "colab_type": "text",
        "id": "b0QJURWh-9uv"
      },
      "source": [
        "### Visualize the results\n",
        "\n",
        "Create charts for both loss and accuracy by epoch. Use line graphs for both charts. Analyze the results. \n",
        "\n",
        "At what point should we have stopped training the model and why? "
      ]
    },
    {
      "cell_type": "code",
      "metadata": {
        "colab_type": "code",
        "id": "KONJtU5wqlXf",
        "colab": {
          "base_uri": "https://localhost:8080/",
          "height": 1000
        },
        "outputId": "70b40e4a-319c-4b55-c498-9ca93d5dc5a2"
      },
      "source": [
        "baseline.history"
      ],
      "execution_count": 12,
      "outputs": [
        {
          "output_type": "execute_result",
          "data": {
            "text/plain": [
              "{'accuracy': [0.0997999981045723,\n",
              "  0.097462497651577,\n",
              "  0.0979750007390976,\n",
              "  0.09936250001192093,\n",
              "  0.09998749941587448,\n",
              "  0.09878750145435333,\n",
              "  0.1012749969959259,\n",
              "  0.09947499632835388,\n",
              "  0.09821250289678574,\n",
              "  0.09814999997615814,\n",
              "  0.09943749755620956,\n",
              "  0.09966249763965607,\n",
              "  0.09956250339746475,\n",
              "  0.09932500123977661,\n",
              "  0.09938749670982361,\n",
              "  0.09905000030994415,\n",
              "  0.09835000336170197,\n",
              "  0.10072500258684158,\n",
              "  0.10011249780654907,\n",
              "  0.09965000301599503,\n",
              "  0.09783750027418137,\n",
              "  0.09854999929666519,\n",
              "  0.10159999877214432,\n",
              "  0.09849999845027924,\n",
              "  0.10071250051259995,\n",
              "  0.09958750009536743,\n",
              "  0.09948749840259552,\n",
              "  0.09892500191926956,\n",
              "  0.0994499996304512,\n",
              "  0.10014999657869339],\n",
              " 'loss': [2.302548408508301,\n",
              "  2.3025848865509033,\n",
              "  2.302554130554199,\n",
              "  2.3025786876678467,\n",
              "  2.302542209625244,\n",
              "  2.3025686740875244,\n",
              "  2.3025479316711426,\n",
              "  2.302548408508301,\n",
              "  2.3025403022766113,\n",
              "  2.3025760650634766,\n",
              "  2.302565336227417,\n",
              "  2.3025569915771484,\n",
              "  2.302546977996826,\n",
              "  2.302574634552002,\n",
              "  2.3025615215301514,\n",
              "  2.302553653717041,\n",
              "  2.3025612831115723,\n",
              "  2.302555561065674,\n",
              "  2.302565097808838,\n",
              "  2.3025624752044678,\n",
              "  2.3025684356689453,\n",
              "  2.3025522232055664,\n",
              "  2.302546739578247,\n",
              "  2.3025593757629395,\n",
              "  2.3025546073913574,\n",
              "  2.3025436401367188,\n",
              "  2.302563190460205,\n",
              "  2.302561044692993,\n",
              "  2.30255389213562,\n",
              "  2.3025500774383545],\n",
              " 'val_accuracy': [0.09814999997615814,\n",
              "  0.09814999997615814,\n",
              "  0.09870000183582306,\n",
              "  0.09814999997615814,\n",
              "  0.09814999997615814,\n",
              "  0.09814999997615814,\n",
              "  0.09650000184774399,\n",
              "  0.10000000149011612,\n",
              "  0.09870000183582306,\n",
              "  0.09910000115633011,\n",
              "  0.09814999997615814,\n",
              "  0.09650000184774399,\n",
              "  0.09650000184774399,\n",
              "  0.09910000115633011,\n",
              "  0.09650000184774399,\n",
              "  0.09870000183582306,\n",
              "  0.09814999997615814,\n",
              "  0.09650000184774399,\n",
              "  0.09814999997615814,\n",
              "  0.09910000115633011,\n",
              "  0.09910000115633011,\n",
              "  0.09870000183582306,\n",
              "  0.09650000184774399,\n",
              "  0.09650000184774399,\n",
              "  0.09650000184774399,\n",
              "  0.09910000115633011,\n",
              "  0.09814999997615814,\n",
              "  0.09910000115633011,\n",
              "  0.09814999997615814,\n",
              "  0.09814999997615814],\n",
              " 'val_loss': [2.310993194580078,\n",
              "  2.311039924621582,\n",
              "  2.3109288215637207,\n",
              "  2.310927391052246,\n",
              "  2.311009645462036,\n",
              "  2.310960054397583,\n",
              "  2.3109817504882812,\n",
              "  2.310971736907959,\n",
              "  2.3109285831451416,\n",
              "  2.3109989166259766,\n",
              "  2.3109309673309326,\n",
              "  2.3109583854675293,\n",
              "  2.3109729290008545,\n",
              "  2.311014175415039,\n",
              "  2.310997724533081,\n",
              "  2.3109543323516846,\n",
              "  2.3109381198883057,\n",
              "  2.310920000076294,\n",
              "  2.3109545707702637,\n",
              "  2.311004161834717,\n",
              "  2.310901641845703,\n",
              "  2.3109607696533203,\n",
              "  2.310943841934204,\n",
              "  2.310997486114502,\n",
              "  2.310980796813965,\n",
              "  2.3109545707702637,\n",
              "  2.310926914215088,\n",
              "  2.310967206954956,\n",
              "  2.310990571975708,\n",
              "  2.3110272884368896]}"
            ]
          },
          "metadata": {
            "tags": []
          },
          "execution_count": 12
        }
      ]
    },
    {
      "cell_type": "code",
      "metadata": {
        "colab_type": "code",
        "id": "ijAlzfYKAFaY",
        "colab": {
          "base_uri": "https://localhost:8080/",
          "height": 313
        },
        "outputId": "f0db331a-1346-4fa5-8920-91d8b2c1dc8e"
      },
      "source": [
        "import seaborn as sns\n",
        "import pandas as pd\n",
        "\n",
        "df = pd.DataFrame.from_records(baseline.history)\n",
        "df['epoch'] = [i for i in range(df.shape[0])]\n",
        "\n",
        "ax = sns.lineplot(x='epoch', y='val_loss', data=df)\n",
        "ax = sns.lineplot(x='epoch', y='loss', data=df);"
      ],
      "execution_count": 13,
      "outputs": [
        {
          "output_type": "stream",
          "text": [
            "/usr/local/lib/python3.6/dist-packages/statsmodels/tools/_testing.py:19: FutureWarning: pandas.util.testing is deprecated. Use the functions in the public API at pandas.testing instead.\n",
            "  import pandas.util.testing as tm\n"
          ],
          "name": "stderr"
        },
        {
          "output_type": "display_data",
          "data": {
            "image/png": "[encoded data removed]",
            "text/plain": [
              "<Figure size 432x288 with 1 Axes>"
            ]
          },
          "metadata": {
            "tags": [],
            "needs_background": "light"
          }
        }
      ]
    },
    {
      "cell_type": "markdown",
      "metadata": {
        "colab_type": "text",
        "id": "MAhBrcE4yOZe"
      },
      "source": [
        "## Change Optimizers\n",
        "Try using the keras `adam` optimizer instead of `sgd` in your model. Visualize the difference in validation loss between the models with different optimizers. "
      ]
    },
    {
      "cell_type": "code",
      "metadata": {
        "colab_type": "code",
        "id": "jIW_spOZ0cxy",
        "colab": {}
      },
      "source": [
        "from tensorflow.keras.optimizers import Adam\n",
        "\n",
        "def create_adam_model():\n",
        "  adam = Adam()\n",
        "\n",
        "  model = Sequential(\n",
        "      [\n",
        "       Dense(32, activation='relu', input_dim=784),\n",
        "       Dense(32, activation='relu'),\n",
        "       Dense(10, activation='softmax')       \n",
        "      ]\n",
        ")\n",
        "  model.compile(optimizer=adam, loss='sparse_categorical_crossentropy',\n",
        "                metrics=['accuracy'])\n",
        "  return model"
      ],
      "execution_count": 18,
      "outputs": []
    },
    {
      "cell_type": "code",
      "metadata": {
        "id": "DA12dq-Ub7ai",
        "colab_type": "code",
        "colab": {
          "base_uri": "https://localhost:8080/",
          "height": 255
        },
        "outputId": "2f4040f9-bcf6-408a-c3cf-e21cb7cceaef"
      },
      "source": [
        "adam_quickdraw_model = create_adam_model()\n",
        "adam_quickdraw_model.summary()"
      ],
      "execution_count": 20,
      "outputs": [
        {
          "output_type": "stream",
          "text": [
            "Model: \"sequential_2\"\n",
            "_________________________________________________________________\n",
            "Layer (type)                 Output Shape              Param #   \n",
            "=================================================================\n",
            "dense_6 (Dense)              (None, 32)                25120     \n",
            "_________________________________________________________________\n",
            "dense_7 (Dense)              (None, 32)                1056      \n",
            "_________________________________________________________________\n",
            "dense_8 (Dense)              (None, 10)                330       \n",
            "=================================================================\n",
            "Total params: 26,506\n",
            "Trainable params: 26,506\n",
            "Non-trainable params: 0\n",
            "_________________________________________________________________\n"
          ],
          "name": "stdout"
        }
      ]
    },
    {
      "cell_type": "code",
      "metadata": {
        "id": "5Z35zEincDok",
        "colab_type": "code",
        "colab": {
          "base_uri": "https://localhost:8080/",
          "height": 867
        },
        "outputId": "e5337131-8efe-4692-b05a-8d053416567d"
      },
      "source": [
        "adam_model = adam_quickdraw_model.fit(X_train, y_train,\n",
        "                                  epochs=25,\n",
        "                                  validation_data=(X_val, y_val))"
      ],
      "execution_count": 22,
      "outputs": [
        {
          "output_type": "stream",
          "text": [
            "Epoch 1/25\n",
            "2500/2500 [==============================] - 6s 2ms/step - loss: 2.1260 - accuracy: 0.4131 - val_loss: 1.3858 - val_accuracy: 0.4857\n",
            "Epoch 2/25\n",
            "2500/2500 [==============================] - 6s 2ms/step - loss: 1.2500 - accuracy: 0.5615 - val_loss: 1.1538 - val_accuracy: 0.6010\n",
            "Epoch 3/25\n",
            "2500/2500 [==============================] - 6s 2ms/step - loss: 1.1247 - accuracy: 0.6163 - val_loss: 1.1052 - val_accuracy: 0.6245\n",
            "Epoch 4/25\n",
            "2500/2500 [==============================] - 6s 2ms/step - loss: 1.0705 - accuracy: 0.6349 - val_loss: 1.0687 - val_accuracy: 0.6480\n",
            "Epoch 5/25\n",
            "2500/2500 [==============================] - 6s 2ms/step - loss: 1.0372 - accuracy: 0.6546 - val_loss: 1.0018 - val_accuracy: 0.6750\n",
            "Epoch 6/25\n",
            "2500/2500 [==============================] - 6s 2ms/step - loss: 0.9791 - accuracy: 0.6824 - val_loss: 0.9500 - val_accuracy: 0.6885\n",
            "Epoch 7/25\n",
            "2500/2500 [==============================] - 6s 2ms/step - loss: 0.9179 - accuracy: 0.7039 - val_loss: 0.9369 - val_accuracy: 0.7061\n",
            "Epoch 8/25\n",
            "2500/2500 [==============================] - 6s 2ms/step - loss: 0.8852 - accuracy: 0.7124 - val_loss: 0.8698 - val_accuracy: 0.7165\n",
            "Epoch 9/25\n",
            "2500/2500 [==============================] - 6s 2ms/step - loss: 0.8547 - accuracy: 0.7231 - val_loss: 0.8685 - val_accuracy: 0.7250\n",
            "Epoch 10/25\n",
            "2500/2500 [==============================] - 6s 2ms/step - loss: 0.8337 - accuracy: 0.7314 - val_loss: 0.8351 - val_accuracy: 0.7353\n",
            "Epoch 11/25\n",
            "2500/2500 [==============================] - 6s 2ms/step - loss: 0.8201 - accuracy: 0.7358 - val_loss: 0.8237 - val_accuracy: 0.7407\n",
            "Epoch 12/25\n",
            "2500/2500 [==============================] - 6s 2ms/step - loss: 0.8139 - accuracy: 0.7393 - val_loss: 0.8378 - val_accuracy: 0.7418\n",
            "Epoch 13/25\n",
            "2500/2500 [==============================] - 6s 2ms/step - loss: 0.8008 - accuracy: 0.7454 - val_loss: 0.7981 - val_accuracy: 0.7499\n",
            "Epoch 14/25\n",
            "2500/2500 [==============================] - 6s 2ms/step - loss: 0.7890 - accuracy: 0.7504 - val_loss: 0.8017 - val_accuracy: 0.7504\n",
            "Epoch 15/25\n",
            "2500/2500 [==============================] - 6s 2ms/step - loss: 0.7710 - accuracy: 0.7558 - val_loss: 0.7985 - val_accuracy: 0.7563\n",
            "Epoch 16/25\n",
            "2500/2500 [==============================] - 5s 2ms/step - loss: 0.7598 - accuracy: 0.7607 - val_loss: 0.7963 - val_accuracy: 0.7429\n",
            "Epoch 17/25\n",
            "2500/2500 [==============================] - 6s 2ms/step - loss: 0.7451 - accuracy: 0.7662 - val_loss: 0.7595 - val_accuracy: 0.7715\n",
            "Epoch 18/25\n",
            "2500/2500 [==============================] - 6s 2ms/step - loss: 0.7307 - accuracy: 0.7709 - val_loss: 0.7580 - val_accuracy: 0.7714\n",
            "Epoch 19/25\n",
            "2500/2500 [==============================] - 6s 2ms/step - loss: 0.7224 - accuracy: 0.7753 - val_loss: 0.7504 - val_accuracy: 0.7746\n",
            "Epoch 20/25\n",
            "2500/2500 [==============================] - 6s 2ms/step - loss: 0.7112 - accuracy: 0.7800 - val_loss: 0.7503 - val_accuracy: 0.7655\n",
            "Epoch 21/25\n",
            "2500/2500 [==============================] - 6s 2ms/step - loss: 0.7045 - accuracy: 0.7818 - val_loss: 0.7480 - val_accuracy: 0.7770\n",
            "Epoch 22/25\n",
            "2500/2500 [==============================] - 6s 2ms/step - loss: 0.6989 - accuracy: 0.7851 - val_loss: 0.7337 - val_accuracy: 0.7807\n",
            "Epoch 23/25\n",
            "2500/2500 [==============================] - 6s 2ms/step - loss: 0.6893 - accuracy: 0.7871 - val_loss: 0.7398 - val_accuracy: 0.7757\n",
            "Epoch 24/25\n",
            "2500/2500 [==============================] - 6s 2ms/step - loss: 0.6848 - accuracy: 0.7879 - val_loss: 0.7347 - val_accuracy: 0.7810\n",
            "Epoch 25/25\n",
            "2500/2500 [==============================] - 6s 3ms/step - loss: 0.6814 - accuracy: 0.7891 - val_loss: 0.7193 - val_accuracy: 0.7839\n"
          ],
          "name": "stdout"
        }
      ]
    },
    {
      "cell_type": "code",
      "metadata": {
        "id": "748uTnpGc9hr",
        "colab_type": "code",
        "colab": {
          "base_uri": "https://localhost:8080/",
          "height": 279
        },
        "outputId": "1464a1d5-6b1e-43e5-aa10-bdf737ba028f"
      },
      "source": [
        "adam_df = pd.DataFrame.from_records(adam_model.history)\n",
        "adam_df['epoch'] = [i for i in range(adam_df.shape[0])]\n",
        "\n",
        "ax = sns.lineplot(x='epoch', y='val_loss', data=adam_df)\n",
        "ax = sns.lineplot(x='epoch', y='val_loss', data=df);"
      ],
      "execution_count": 27,
      "outputs": [
        {
          "output_type": "display_data",
          "data": {
            "image/png": "[encoded data removed]",
            "text/plain": [
              "<Figure size 432x288 with 1 Axes>"
            ]
          },
          "metadata": {
            "tags": [],
            "needs_background": "light"
          }
        }
      ]
    },
    {
      "cell_type": "markdown",
      "metadata": {
        "colab_type": "text",
        "id": "EJrbh3qryi4w"
      },
      "source": [
        "### Additional Written Tasks:\n",
        "In this section, you will need to search for resources: \n",
        "1. Investigate the various [loss functions](https://www.tensorflow.org/api_docs/python/tf/keras/losses). Which is best suited for the task at hand (predicting 1 / 0) and why? \n",
        "2. What is the difference between a loss function and a metric? Why might we need both in Keras? \n",
        "3. Investigate the various [optimizers](https://www.tensorflow.org/api_docs/python/tf/keras/optimizers). Stochastic Gradient Descent (`sgd`) is not the learning algorithm dejour anyone. Why is that? What do newer optimizers such as `adam` have to offer? "
      ]
    },
    {
      "cell_type": "markdown",
      "metadata": {
        "id": "Y7U3WQj9eVAq",
        "colab_type": "text"
      },
      "source": [
        "1. Binary Cross Entropy seems to be the best suited for the task at hand because in the documentation, it is said to be used when there are only two label classes (assumed to be 0 and 1).\n",
        "2. The loss function is used to optimize the model during training. The metric is used for judging the performance of the model. We need both because we need to be able to converge to an optimal model eventually using the loss function, and we still need a metric to judge how well our model does.\n",
        "3. SGD is really slow which is why people tend to stray away from using it. Adam is much faster than SGD, but has some convergence problems."
      ]
    },
    {
      "cell_type": "markdown",
      "metadata": {
        "colab_type": "text",
        "id": "Gzs4fd-RynDd"
      },
      "source": [
        "## Stretch Goals: \n",
        "\n",
        "- Research convolutional neural networks and try including convolution layers in your network.\n",
        "- Pick two classes and make QuickDraw a binary classification problem, how does your model architecture change?\n",
        "- Implement Cross Validation model evaluation on your Quickdraw implementation \n",
        "\n",
        "Watch some more videos on Gradient Descent:\n",
        "- [Gradient Descent, Step-by-Step](https://www.youtube.com/watch?v=sDv4f4s2SB8)  by StatQuest w/ Josh Starmer. This will help you understand the gradient descent based optimization that happens underneath the hood of neural networks. It uses a non-neural network example, which I believe is a gentler introduction. You will hear me refer to this technique as \"vanilla\" gradient descent. \n",
        "- [Stochastic Gradient Descent, Clearly Explained!!!](https://www.youtube.com/watch?v=vMh0zPT0tLI) by StatQuest w/ Josh Starmer. This builds on the techniques in the previous video.  This technique is the one that is actually implemented inside modern 'nets. \n",
        "- [Siraj Raval the evolution of gradient descent](https://www.youtube.com/watch?v=nhqo0u1a6fw)"
      ]
    }
  ]
}