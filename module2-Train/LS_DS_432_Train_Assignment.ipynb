{
  "nbformat": 4,
  "nbformat_minor": 0,
  "metadata": {
    "colab": {
      "name": "LS_DS_432_Train_Assignment.ipynb",
      "provenance": [],
      "collapsed_sections": []
    },
    "kernelspec": {
      "display_name": "Python 3",
      "language": "python",
      "name": "python3"
    },
    "language_info": {
      "codemirror_mode": {
        "name": "ipython",
        "version": 3
      },
      "file_extension": ".py",
      "mimetype": "text/x-python",
      "name": "python",
      "nbconvert_exporter": "python",
      "pygments_lexer": "ipython3",
      "version": "3.7.3"
    },
    "nteract": {
      "version": "0.22.4"
    }
  },
  "cells": [
    {
      "cell_type": "markdown",
      "metadata": {
        "colab_type": "text",
        "id": "NGGrt9EYlCqY"
      },
      "source": [
        "<img align=\"left\" src=\"https://lever-client-logos.s3.amazonaws.com/864372b1-534c-480e-acd5-9711f850815c-1524247202159.png\" width=200>\n",
        "<br></br>\n",
        "<br></br>\n",
        "\n",
        "# Train Practice\n",
        "\n",
        "## *Data Science Unit 4 Sprint 2 Assignment 2*\n",
        "\n",
        "Continue to use TensorFlow Keras & a sample of the [Quickdraw dataset](https://github.com/googlecreativelab/quickdraw-dataset) to build a sketch classification model. The dataset has been sampled to only 10 classes and 10000 observations per class. Please build a baseline classification model then run a few experiments with different optimizers and learning rates. \n",
        "\n",
        "*Don't forgot to switch to GPU on Colab!*"
      ]
    },
    {
      "cell_type": "markdown",
      "metadata": {
        "id": "ptJ2b3wk62Ud",
        "colab_type": "text"
      },
      "source": [
        "### Write a function to load your data\n",
        "\n",
        "Wrap yesterday's preprocessing steps into a function that returns four items:\n",
        "* X_train\n",
        "* y_train\n",
        "* X_test\n",
        "* y_test\n",
        "\n",
        "Your function should accept a `path` to the data as a argument."
      ]
    },
    {
      "cell_type": "code",
      "metadata": {
        "id": "nJsIsrvp7O3e",
        "colab_type": "code",
        "colab": {}
      },
      "source": [
        "import numpy as np\n",
        "from sklearn.model_selection import train_test_split\n",
        "\n",
        "def load_quickdraw10(path):\n",
        "  data = np.load(path)\n",
        "  X = data['arr_0']\n",
        "  y = data['arr_1']\n",
        "  X_train, X_test, y_train, y_test = train_test_split(X, y,\n",
        "                                                    test_size=0.2,\n",
        "                                                    random_state=42 )\n",
        "  return X_train, y_train, X_test, y_test"
      ],
      "execution_count": 1,
      "outputs": []
    },
    {
      "cell_type": "code",
      "metadata": {
        "id": "6gzgomTssngf",
        "colab_type": "code",
        "colab": {}
      },
      "source": [
        "X_train, y_train, X_test, y_test = load_quickdraw10('quickdraw10.npz')"
      ],
      "execution_count": 3,
      "outputs": []
    },
    {
      "cell_type": "markdown",
      "metadata": {
        "id": "l-6PxI6H5__2",
        "colab_type": "text"
      },
      "source": [
        "### Write a Model Function\n",
        "Using your model from yesterday, write a function called `create_model` which returns a compiled TensorFlow Keras Sequential Model suitable for classifying the QuickDraw-10 dataset. Include parameters for the following: \n",
        "* Learning Rate\n",
        "* Optimizer"
      ]
    },
    {
      "cell_type": "code",
      "metadata": {
        "colab_type": "code",
        "id": "nEREYT-3wI1f",
        "colab": {}
      },
      "source": [
        "##### Your Code Here #####\n",
        "from tensorflow.keras import Sequential\n",
        "from tensorflow.keras.layers import Dense\n",
        "from tensorflow.keras.optimizers import SGD, Adam, Adadelta, Adagrad, Adamax\n",
        "\n",
        "def create_model(lr=.01, opt='SGD'):\n",
        "  if opt == 'SGD':\n",
        "    optimizer = SGD(learning_rate=lr)\n",
        "  if opt == 'Adam':\n",
        "    optimizer = Adam(learning_rate=lr)\n",
        "  if opt == 'Adadelta':\n",
        "    optimizer = Adadelta(learning_rate=lr)\n",
        "  if opt == 'Adagrad':\n",
        "    optimizer = Adagrad(learning_rate=lr)\n",
        "  if opt == 'Adamax':\n",
        "    optimizer = Adamax(learning_rate=lr)\n",
        "\n",
        "  model = Sequential(\n",
        "      [\n",
        "       Dense(32, activation='relu', input_dim=784),\n",
        "       Dense(32, activation='relu'),\n",
        "       Dense(10, activation='softmax')       \n",
        "      ]\n",
        "  )\n",
        "  model.compile(optimizer=optimizer, loss='sparse_categorical_crossentropy',\n",
        "                metrics=['accuracy'])\n",
        "  return model"
      ],
      "execution_count": 33,
      "outputs": []
    },
    {
      "cell_type": "markdown",
      "metadata": {
        "id": "f0pCkh8C7eGL",
        "colab_type": "text"
      },
      "source": [
        "### Experiment with Batch Size\n",
        "* Run 5 experiments with various batch sizes of your choice. \n",
        "* Visualize the results\n",
        "* Write up an analysis of the experiments and select the \"best\" performing model among your experiments. Make sure to compare against your model's performance yesterday. "
      ]
    },
    {
      "cell_type": "code",
      "metadata": {
        "id": "USXjs7Hk71Hy",
        "colab_type": "code",
        "colab": {}
      },
      "source": [
        "quickdraw10_model_32 = create_model()\n",
        "quickdraw10_model_64 = create_model()\n",
        "quickdraw10_model_16 = create_model()\n",
        "quickdraw10_model_128 = create_model()\n",
        "quickdraw10_model_8 = create_model()"
      ],
      "execution_count": 9,
      "outputs": []
    },
    {
      "cell_type": "code",
      "metadata": {
        "id": "PpRElf_Quf0N",
        "colab_type": "code",
        "colab": {
          "base_uri": "https://localhost:8080/",
          "height": 867
        },
        "outputId": "a1703a6c-1ddc-4ab6-df74-a2181ffe423e"
      },
      "source": [
        "bt_32 = quickdraw10_model_32.fit(X_train, y_train,\n",
        "                                epochs=25,\n",
        "                                batch_size=32,\n",
        "                                validation_data=(X_test, y_test))"
      ],
      "execution_count": 10,
      "outputs": [
        {
          "output_type": "stream",
          "text": [
            "Epoch 1/25\n",
            "2500/2500 [==============================] - 4s 1ms/step - loss: 5.1464 - accuracy: 0.0989 - val_loss: 2.3026 - val_accuracy: 0.1006\n",
            "Epoch 2/25\n",
            "2500/2500 [==============================] - 4s 1ms/step - loss: 2.3027 - accuracy: 0.0987 - val_loss: 2.3026 - val_accuracy: 0.1002\n",
            "Epoch 3/25\n",
            "2500/2500 [==============================] - 4s 1ms/step - loss: 2.3027 - accuracy: 0.0995 - val_loss: 2.3026 - val_accuracy: 0.1000\n",
            "Epoch 4/25\n",
            "2500/2500 [==============================] - 3s 1ms/step - loss: 2.3028 - accuracy: 0.0986 - val_loss: 2.3026 - val_accuracy: 0.1000\n",
            "Epoch 5/25\n",
            "2500/2500 [==============================] - 4s 1ms/step - loss: 2.3027 - accuracy: 0.0995 - val_loss: 2.3027 - val_accuracy: 0.0993\n",
            "Epoch 6/25\n",
            "2500/2500 [==============================] - 4s 1ms/step - loss: 2.3027 - accuracy: 0.0987 - val_loss: 2.3027 - val_accuracy: 0.1001\n",
            "Epoch 7/25\n",
            "2500/2500 [==============================] - 3s 1ms/step - loss: 2.3027 - accuracy: 0.0982 - val_loss: 2.3026 - val_accuracy: 0.0988\n",
            "Epoch 8/25\n",
            "2500/2500 [==============================] - 3s 1ms/step - loss: 2.3027 - accuracy: 0.0990 - val_loss: 2.3026 - val_accuracy: 0.1000\n",
            "Epoch 9/25\n",
            "2500/2500 [==============================] - 4s 1ms/step - loss: 2.3027 - accuracy: 0.0991 - val_loss: 2.3027 - val_accuracy: 0.0993\n",
            "Epoch 10/25\n",
            "2500/2500 [==============================] - 4s 1ms/step - loss: 2.3027 - accuracy: 0.0985 - val_loss: 2.3026 - val_accuracy: 0.0996\n",
            "Epoch 11/25\n",
            "2500/2500 [==============================] - 4s 1ms/step - loss: 2.3027 - accuracy: 0.0988 - val_loss: 2.3026 - val_accuracy: 0.0993\n",
            "Epoch 12/25\n",
            "2500/2500 [==============================] - 4s 1ms/step - loss: 2.3027 - accuracy: 0.0992 - val_loss: 2.3026 - val_accuracy: 0.1002\n",
            "Epoch 13/25\n",
            "2500/2500 [==============================] - 4s 1ms/step - loss: 2.3026 - accuracy: 0.0997 - val_loss: 2.3027 - val_accuracy: 0.0993\n",
            "Epoch 14/25\n",
            "2500/2500 [==============================] - 4s 1ms/step - loss: 2.3027 - accuracy: 0.0980 - val_loss: 2.3026 - val_accuracy: 0.1001\n",
            "Epoch 15/25\n",
            "2500/2500 [==============================] - 4s 1ms/step - loss: 2.3027 - accuracy: 0.0983 - val_loss: 2.3026 - val_accuracy: 0.1000\n",
            "Epoch 16/25\n",
            "2500/2500 [==============================] - 4s 1ms/step - loss: 2.3027 - accuracy: 0.0999 - val_loss: 2.3027 - val_accuracy: 0.0988\n",
            "Epoch 17/25\n",
            "2500/2500 [==============================] - 4s 1ms/step - loss: 2.3027 - accuracy: 0.0991 - val_loss: 2.3026 - val_accuracy: 0.0993\n",
            "Epoch 18/25\n",
            "2500/2500 [==============================] - 4s 1ms/step - loss: 2.3027 - accuracy: 0.0986 - val_loss: 2.3026 - val_accuracy: 0.0993\n",
            "Epoch 19/25\n",
            "2500/2500 [==============================] - 4s 1ms/step - loss: 2.3027 - accuracy: 0.0984 - val_loss: 2.3026 - val_accuracy: 0.0996\n",
            "Epoch 20/25\n",
            "2500/2500 [==============================] - 4s 1ms/step - loss: 2.3027 - accuracy: 0.0995 - val_loss: 2.3026 - val_accuracy: 0.0988\n",
            "Epoch 21/25\n",
            "2500/2500 [==============================] - 4s 1ms/step - loss: 2.3026 - accuracy: 0.0983 - val_loss: 2.3027 - val_accuracy: 0.0993\n",
            "Epoch 22/25\n",
            "2500/2500 [==============================] - 4s 2ms/step - loss: 2.3027 - accuracy: 0.0988 - val_loss: 2.3026 - val_accuracy: 0.1000\n",
            "Epoch 23/25\n",
            "2500/2500 [==============================] - 5s 2ms/step - loss: 2.3027 - accuracy: 0.0988 - val_loss: 2.3026 - val_accuracy: 0.0993\n",
            "Epoch 24/25\n",
            "2500/2500 [==============================] - 4s 1ms/step - loss: 2.3027 - accuracy: 0.0975 - val_loss: 2.3026 - val_accuracy: 0.1006\n",
            "Epoch 25/25\n",
            "2500/2500 [==============================] - 4s 1ms/step - loss: 2.3026 - accuracy: 0.0986 - val_loss: 2.3026 - val_accuracy: 0.0993\n"
          ],
          "name": "stdout"
        }
      ]
    },
    {
      "cell_type": "code",
      "metadata": {
        "id": "ZNYu4XOPulax",
        "colab_type": "code",
        "colab": {
          "base_uri": "https://localhost:8080/",
          "height": 867
        },
        "outputId": "44b77e93-5bf3-48a5-9438-88c6cb5daddb"
      },
      "source": [
        "bt_64 = quickdraw10_model_64.fit(X_train, y_train,\n",
        "                                epochs=25,\n",
        "                                batch_size=64,\n",
        "                                validation_data=(X_test, y_test))"
      ],
      "execution_count": 11,
      "outputs": [
        {
          "output_type": "stream",
          "text": [
            "Epoch 1/25\n",
            "1250/1250 [==============================] - 3s 2ms/step - loss: 5.4803 - accuracy: 0.0983 - val_loss: 2.3026 - val_accuracy: 0.0993\n",
            "Epoch 2/25\n",
            "1250/1250 [==============================] - 3s 3ms/step - loss: 2.3029 - accuracy: 0.0987 - val_loss: 2.3026 - val_accuracy: 0.1000\n",
            "Epoch 3/25\n",
            "1250/1250 [==============================] - 2s 2ms/step - loss: 2.3029 - accuracy: 0.0991 - val_loss: 2.3026 - val_accuracy: 0.1019\n",
            "Epoch 4/25\n",
            "1250/1250 [==============================] - 3s 2ms/step - loss: 2.3026 - accuracy: 0.0980 - val_loss: 2.3026 - val_accuracy: 0.1001\n",
            "Epoch 5/25\n",
            "1250/1250 [==============================] - 3s 2ms/step - loss: 2.3026 - accuracy: 0.0978 - val_loss: 2.3026 - val_accuracy: 0.0988\n",
            "Epoch 6/25\n",
            "1250/1250 [==============================] - 3s 2ms/step - loss: 2.3026 - accuracy: 0.0983 - val_loss: 2.3026 - val_accuracy: 0.0993\n",
            "Epoch 7/25\n",
            "1250/1250 [==============================] - 2s 2ms/step - loss: 2.3026 - accuracy: 0.0989 - val_loss: 2.3026 - val_accuracy: 0.0995\n",
            "Epoch 8/25\n",
            "1250/1250 [==============================] - 2s 2ms/step - loss: 2.3026 - accuracy: 0.0972 - val_loss: 2.3026 - val_accuracy: 0.0993\n",
            "Epoch 9/25\n",
            "1250/1250 [==============================] - 2s 2ms/step - loss: 2.3026 - accuracy: 0.0980 - val_loss: 2.3026 - val_accuracy: 0.0993\n",
            "Epoch 10/25\n",
            "1250/1250 [==============================] - 2s 2ms/step - loss: 2.3026 - accuracy: 0.0973 - val_loss: 2.3026 - val_accuracy: 0.0993\n",
            "Epoch 11/25\n",
            "1250/1250 [==============================] - 2s 2ms/step - loss: 2.3026 - accuracy: 0.0977 - val_loss: 2.3026 - val_accuracy: 0.0988\n",
            "Epoch 12/25\n",
            "1250/1250 [==============================] - 2s 2ms/step - loss: 2.3026 - accuracy: 0.0985 - val_loss: 2.3026 - val_accuracy: 0.1001\n",
            "Epoch 13/25\n",
            "1250/1250 [==============================] - 2s 2ms/step - loss: 2.3026 - accuracy: 0.0992 - val_loss: 2.3026 - val_accuracy: 0.0988\n",
            "Epoch 14/25\n",
            "1250/1250 [==============================] - 2s 2ms/step - loss: 2.3026 - accuracy: 0.0977 - val_loss: 2.3026 - val_accuracy: 0.0993\n",
            "Epoch 15/25\n",
            "1250/1250 [==============================] - 2s 2ms/step - loss: 2.3026 - accuracy: 0.0994 - val_loss: 2.3026 - val_accuracy: 0.0995\n",
            "Epoch 16/25\n",
            "1250/1250 [==============================] - 2s 2ms/step - loss: 2.3026 - accuracy: 0.0987 - val_loss: 2.3026 - val_accuracy: 0.0988\n",
            "Epoch 17/25\n",
            "1250/1250 [==============================] - 2s 2ms/step - loss: 2.3026 - accuracy: 0.0987 - val_loss: 2.3026 - val_accuracy: 0.1000\n",
            "Epoch 18/25\n",
            "1250/1250 [==============================] - 2s 2ms/step - loss: 2.3026 - accuracy: 0.0978 - val_loss: 2.3026 - val_accuracy: 0.1001\n",
            "Epoch 19/25\n",
            "1250/1250 [==============================] - 2s 2ms/step - loss: 2.3026 - accuracy: 0.0992 - val_loss: 2.3026 - val_accuracy: 0.0993\n",
            "Epoch 20/25\n",
            "1250/1250 [==============================] - 2s 2ms/step - loss: 2.3026 - accuracy: 0.0996 - val_loss: 2.3026 - val_accuracy: 0.0988\n",
            "Epoch 21/25\n",
            "1250/1250 [==============================] - 2s 2ms/step - loss: 2.3026 - accuracy: 0.0967 - val_loss: 2.3026 - val_accuracy: 0.1000\n",
            "Epoch 22/25\n",
            "1250/1250 [==============================] - 2s 2ms/step - loss: 2.3026 - accuracy: 0.0986 - val_loss: 2.3026 - val_accuracy: 0.0993\n",
            "Epoch 23/25\n",
            "1250/1250 [==============================] - 2s 2ms/step - loss: 2.3026 - accuracy: 0.0986 - val_loss: 2.3026 - val_accuracy: 0.1000\n",
            "Epoch 24/25\n",
            "1250/1250 [==============================] - 2s 2ms/step - loss: 2.3026 - accuracy: 0.0981 - val_loss: 2.3026 - val_accuracy: 0.0988\n",
            "Epoch 25/25\n",
            "1250/1250 [==============================] - 2s 2ms/step - loss: 2.3026 - accuracy: 0.0977 - val_loss: 2.3026 - val_accuracy: 0.1001\n"
          ],
          "name": "stdout"
        }
      ]
    },
    {
      "cell_type": "code",
      "metadata": {
        "id": "-ED0GLslvDnr",
        "colab_type": "code",
        "colab": {
          "base_uri": "https://localhost:8080/",
          "height": 867
        },
        "outputId": "1b95607f-b38d-4a03-f4c6-f50504be852b"
      },
      "source": [
        "bt_16 = quickdraw10_model_16.fit(X_train, y_train,\n",
        "                                epochs=25,\n",
        "                                batch_size=16,\n",
        "                                validation_data=(X_test, y_test))"
      ],
      "execution_count": 12,
      "outputs": [
        {
          "output_type": "stream",
          "text": [
            "Epoch 1/25\n",
            "5000/5000 [==============================] - 6s 1ms/step - loss: 40.2632 - accuracy: 0.0989 - val_loss: 2.3027 - val_accuracy: 0.1001\n",
            "Epoch 2/25\n",
            "5000/5000 [==============================] - 6s 1ms/step - loss: 63.7671 - accuracy: 0.0992 - val_loss: 2.3027 - val_accuracy: 0.0993\n",
            "Epoch 3/25\n",
            "5000/5000 [==============================] - 6s 1ms/step - loss: 2.3027 - accuracy: 0.1008 - val_loss: 2.3029 - val_accuracy: 0.1001\n",
            "Epoch 4/25\n",
            "5000/5000 [==============================] - 6s 1ms/step - loss: 2.3027 - accuracy: 0.0996 - val_loss: 2.3027 - val_accuracy: 0.1006\n",
            "Epoch 5/25\n",
            "5000/5000 [==============================] - 6s 1ms/step - loss: 2.3027 - accuracy: 0.1000 - val_loss: 2.3027 - val_accuracy: 0.0993\n",
            "Epoch 6/25\n",
            "5000/5000 [==============================] - 6s 1ms/step - loss: 2.3027 - accuracy: 0.0983 - val_loss: 2.3027 - val_accuracy: 0.0993\n",
            "Epoch 7/25\n",
            "5000/5000 [==============================] - 6s 1ms/step - loss: 2.3027 - accuracy: 0.0979 - val_loss: 2.3027 - val_accuracy: 0.0996\n",
            "Epoch 8/25\n",
            "5000/5000 [==============================] - 6s 1ms/step - loss: 2.3027 - accuracy: 0.1005 - val_loss: 2.3028 - val_accuracy: 0.0993\n",
            "Epoch 9/25\n",
            "5000/5000 [==============================] - 6s 1ms/step - loss: 2.3027 - accuracy: 0.0982 - val_loss: 2.3027 - val_accuracy: 0.1001\n",
            "Epoch 10/25\n",
            "5000/5000 [==============================] - 6s 1ms/step - loss: 2.3027 - accuracy: 0.0987 - val_loss: 2.3026 - val_accuracy: 0.1019\n",
            "Epoch 11/25\n",
            "5000/5000 [==============================] - 6s 1ms/step - loss: 2.3027 - accuracy: 0.0987 - val_loss: 2.3026 - val_accuracy: 0.1006\n",
            "Epoch 12/25\n",
            "5000/5000 [==============================] - 6s 1ms/step - loss: 2.3027 - accuracy: 0.0985 - val_loss: 2.3027 - val_accuracy: 0.1000\n",
            "Epoch 13/25\n",
            "5000/5000 [==============================] - 6s 1ms/step - loss: 2.3027 - accuracy: 0.0977 - val_loss: 2.3027 - val_accuracy: 0.1001\n",
            "Epoch 14/25\n",
            "5000/5000 [==============================] - 6s 1ms/step - loss: 2.3027 - accuracy: 0.0987 - val_loss: 2.3027 - val_accuracy: 0.1006\n",
            "Epoch 15/25\n",
            "5000/5000 [==============================] - 6s 1ms/step - loss: 2.3027 - accuracy: 0.0996 - val_loss: 2.3027 - val_accuracy: 0.0993\n",
            "Epoch 16/25\n",
            "5000/5000 [==============================] - 6s 1ms/step - loss: 2.3027 - accuracy: 0.1005 - val_loss: 2.3027 - val_accuracy: 0.0996\n",
            "Epoch 17/25\n",
            "5000/5000 [==============================] - 6s 1ms/step - loss: 2.3027 - accuracy: 0.0999 - val_loss: 2.3028 - val_accuracy: 0.1001\n",
            "Epoch 18/25\n",
            "5000/5000 [==============================] - 6s 1ms/step - loss: 2.3027 - accuracy: 0.1001 - val_loss: 2.3027 - val_accuracy: 0.0988\n",
            "Epoch 19/25\n",
            "5000/5000 [==============================] - 6s 1ms/step - loss: 2.3027 - accuracy: 0.0989 - val_loss: 2.3027 - val_accuracy: 0.0996\n",
            "Epoch 20/25\n",
            "5000/5000 [==============================] - 6s 1ms/step - loss: 2.3027 - accuracy: 0.0995 - val_loss: 2.3027 - val_accuracy: 0.0988\n",
            "Epoch 21/25\n",
            "5000/5000 [==============================] - 6s 1ms/step - loss: 2.3027 - accuracy: 0.0992 - val_loss: 2.3027 - val_accuracy: 0.1000\n",
            "Epoch 22/25\n",
            "5000/5000 [==============================] - 6s 1ms/step - loss: 2.3027 - accuracy: 0.0998 - val_loss: 2.3027 - val_accuracy: 0.0996\n",
            "Epoch 23/25\n",
            "5000/5000 [==============================] - 6s 1ms/step - loss: 2.3027 - accuracy: 0.1001 - val_loss: 2.3026 - val_accuracy: 0.1001\n",
            "Epoch 24/25\n",
            "5000/5000 [==============================] - 6s 1ms/step - loss: 2.3027 - accuracy: 0.0993 - val_loss: 2.3027 - val_accuracy: 0.1000\n",
            "Epoch 25/25\n",
            "5000/5000 [==============================] - 6s 1ms/step - loss: 2.3027 - accuracy: 0.0972 - val_loss: 2.3026 - val_accuracy: 0.1019\n"
          ],
          "name": "stdout"
        }
      ]
    },
    {
      "cell_type": "code",
      "metadata": {
        "id": "oyrNO3vFvYvJ",
        "colab_type": "code",
        "colab": {
          "base_uri": "https://localhost:8080/",
          "height": 867
        },
        "outputId": "1118da1b-f3bc-49ea-f0d3-ac3c4e6d5e12"
      },
      "source": [
        "bt_128 = quickdraw10_model_128.fit(X_train, y_train,\n",
        "                                epochs=25,\n",
        "                                batch_size=128,\n",
        "                                validation_data=(X_test, y_test))"
      ],
      "execution_count": 13,
      "outputs": [
        {
          "output_type": "stream",
          "text": [
            "Epoch 1/25\n",
            "625/625 [==============================] - 2s 3ms/step - loss: 25.6675 - accuracy: 0.0969 - val_loss: 2.3205 - val_accuracy: 0.1002\n",
            "Epoch 2/25\n",
            "625/625 [==============================] - 1s 2ms/step - loss: 2.3187 - accuracy: 0.0984 - val_loss: 2.3175 - val_accuracy: 0.1000\n",
            "Epoch 3/25\n",
            "625/625 [==============================] - 2s 2ms/step - loss: 2.3060 - accuracy: 0.0966 - val_loss: 2.3148 - val_accuracy: 0.0993\n",
            "Epoch 4/25\n",
            "625/625 [==============================] - 1s 2ms/step - loss: 2.3028 - accuracy: 0.0981 - val_loss: 2.3152 - val_accuracy: 0.0995\n",
            "Epoch 5/25\n",
            "625/625 [==============================] - 2s 2ms/step - loss: 2.3026 - accuracy: 0.0996 - val_loss: 2.3152 - val_accuracy: 0.0995\n",
            "Epoch 6/25\n",
            "625/625 [==============================] - 1s 2ms/step - loss: 2.3026 - accuracy: 0.0983 - val_loss: 2.3152 - val_accuracy: 0.0993\n",
            "Epoch 7/25\n",
            "625/625 [==============================] - 1s 2ms/step - loss: 2.3026 - accuracy: 0.0991 - val_loss: 2.3152 - val_accuracy: 0.0995\n",
            "Epoch 8/25\n",
            "625/625 [==============================] - 1s 2ms/step - loss: 2.3026 - accuracy: 0.0979 - val_loss: 2.3152 - val_accuracy: 0.0993\n",
            "Epoch 9/25\n",
            "625/625 [==============================] - 1s 2ms/step - loss: 2.3026 - accuracy: 0.0977 - val_loss: 2.3152 - val_accuracy: 0.0988\n",
            "Epoch 10/25\n",
            "625/625 [==============================] - 1s 2ms/step - loss: 2.3026 - accuracy: 0.0978 - val_loss: 2.3152 - val_accuracy: 0.0993\n",
            "Epoch 11/25\n",
            "625/625 [==============================] - 2s 2ms/step - loss: 2.3026 - accuracy: 0.0979 - val_loss: 2.3152 - val_accuracy: 0.0993\n",
            "Epoch 12/25\n",
            "625/625 [==============================] - 1s 2ms/step - loss: 2.3026 - accuracy: 0.0993 - val_loss: 2.3152 - val_accuracy: 0.0988\n",
            "Epoch 13/25\n",
            "625/625 [==============================] - 1s 2ms/step - loss: 2.3026 - accuracy: 0.0978 - val_loss: 2.3152 - val_accuracy: 0.0988\n",
            "Epoch 14/25\n",
            "625/625 [==============================] - 2s 2ms/step - loss: 2.3026 - accuracy: 0.0989 - val_loss: 2.3152 - val_accuracy: 0.0988\n",
            "Epoch 15/25\n",
            "625/625 [==============================] - 2s 3ms/step - loss: 2.3026 - accuracy: 0.1000 - val_loss: 2.3152 - val_accuracy: 0.0993\n",
            "Epoch 16/25\n",
            "625/625 [==============================] - 2s 3ms/step - loss: 2.3026 - accuracy: 0.0998 - val_loss: 2.3152 - val_accuracy: 0.0993\n",
            "Epoch 17/25\n",
            "625/625 [==============================] - 2s 3ms/step - loss: 2.3026 - accuracy: 0.0983 - val_loss: 2.3152 - val_accuracy: 0.0993\n",
            "Epoch 18/25\n",
            "625/625 [==============================] - 2s 2ms/step - loss: 2.3026 - accuracy: 0.0977 - val_loss: 2.3152 - val_accuracy: 0.0988\n",
            "Epoch 19/25\n",
            "625/625 [==============================] - 1s 2ms/step - loss: 2.3026 - accuracy: 0.0966 - val_loss: 2.3152 - val_accuracy: 0.0988\n",
            "Epoch 20/25\n",
            "625/625 [==============================] - 2s 2ms/step - loss: 2.3026 - accuracy: 0.0987 - val_loss: 2.3152 - val_accuracy: 0.0993\n",
            "Epoch 21/25\n",
            "625/625 [==============================] - 2s 2ms/step - loss: 2.3026 - accuracy: 0.0980 - val_loss: 2.3152 - val_accuracy: 0.0993\n",
            "Epoch 22/25\n",
            "625/625 [==============================] - 2s 2ms/step - loss: 2.3026 - accuracy: 0.0981 - val_loss: 2.3152 - val_accuracy: 0.0993\n",
            "Epoch 23/25\n",
            "625/625 [==============================] - 2s 2ms/step - loss: 2.3026 - accuracy: 0.0989 - val_loss: 2.3152 - val_accuracy: 0.0993\n",
            "Epoch 24/25\n",
            "625/625 [==============================] - 1s 2ms/step - loss: 2.3026 - accuracy: 0.0990 - val_loss: 2.3152 - val_accuracy: 0.0988\n",
            "Epoch 25/25\n",
            "625/625 [==============================] - 1s 2ms/step - loss: 2.3026 - accuracy: 0.0996 - val_loss: 2.3152 - val_accuracy: 0.0988\n"
          ],
          "name": "stdout"
        }
      ]
    },
    {
      "cell_type": "code",
      "metadata": {
        "id": "wqj6l6NLvdET",
        "colab_type": "code",
        "colab": {
          "base_uri": "https://localhost:8080/",
          "height": 867
        },
        "outputId": "4097ce01-3dd8-4551-b6bb-8b0255edc8c4"
      },
      "source": [
        "bt_8 = quickdraw10_model_8.fit(X_train, y_train,\n",
        "                                epochs=25,\n",
        "                                batch_size=8,\n",
        "                                validation_data=(X_test, y_test))"
      ],
      "execution_count": 14,
      "outputs": [
        {
          "output_type": "stream",
          "text": [
            "Epoch 1/25\n",
            "10000/10000 [==============================] - 12s 1ms/step - loss: 80.5961 - accuracy: 0.0987 - val_loss: 2.3031 - val_accuracy: 0.0988\n",
            "Epoch 2/25\n",
            "10000/10000 [==============================] - 12s 1ms/step - loss: 2.3297 - accuracy: 0.0992 - val_loss: 2.3027 - val_accuracy: 0.1001\n",
            "Epoch 3/25\n",
            "10000/10000 [==============================] - 12s 1ms/step - loss: 2.7478 - accuracy: 0.1004 - val_loss: 2.3028 - val_accuracy: 0.1002\n",
            "Epoch 4/25\n",
            "10000/10000 [==============================] - 14s 1ms/step - loss: 2.3029 - accuracy: 0.1000 - val_loss: 2.3028 - val_accuracy: 0.1002\n",
            "Epoch 5/25\n",
            "10000/10000 [==============================] - 13s 1ms/step - loss: 2.3029 - accuracy: 0.0975 - val_loss: 2.3029 - val_accuracy: 0.0996\n",
            "Epoch 6/25\n",
            "10000/10000 [==============================] - 12s 1ms/step - loss: 2.3029 - accuracy: 0.0993 - val_loss: 2.3028 - val_accuracy: 0.0988\n",
            "Epoch 7/25\n",
            "10000/10000 [==============================] - 12s 1ms/step - loss: 2.3029 - accuracy: 0.0999 - val_loss: 2.3028 - val_accuracy: 0.1000\n",
            "Epoch 8/25\n",
            "10000/10000 [==============================] - 12s 1ms/step - loss: 2.3029 - accuracy: 0.0992 - val_loss: 2.3029 - val_accuracy: 0.0993\n",
            "Epoch 9/25\n",
            "10000/10000 [==============================] - 12s 1ms/step - loss: 2.3029 - accuracy: 0.0992 - val_loss: 2.3030 - val_accuracy: 0.0993\n",
            "Epoch 10/25\n",
            "10000/10000 [==============================] - 12s 1ms/step - loss: 2.3029 - accuracy: 0.0979 - val_loss: 2.3028 - val_accuracy: 0.1001\n",
            "Epoch 11/25\n",
            "10000/10000 [==============================] - 12s 1ms/step - loss: 2.3029 - accuracy: 0.0999 - val_loss: 2.3028 - val_accuracy: 0.1019\n",
            "Epoch 12/25\n",
            "10000/10000 [==============================] - 12s 1ms/step - loss: 2.3029 - accuracy: 0.0982 - val_loss: 2.3029 - val_accuracy: 0.0988\n",
            "Epoch 13/25\n",
            "10000/10000 [==============================] - 12s 1ms/step - loss: 2.3029 - accuracy: 0.0989 - val_loss: 2.3028 - val_accuracy: 0.0993\n",
            "Epoch 14/25\n",
            "10000/10000 [==============================] - 12s 1ms/step - loss: 2.3029 - accuracy: 0.1002 - val_loss: 2.3027 - val_accuracy: 0.1019\n",
            "Epoch 15/25\n",
            "10000/10000 [==============================] - 12s 1ms/step - loss: 2.3029 - accuracy: 0.0988 - val_loss: 2.3027 - val_accuracy: 0.0988\n",
            "Epoch 16/25\n",
            "10000/10000 [==============================] - 12s 1ms/step - loss: 2.3029 - accuracy: 0.0976 - val_loss: 2.3031 - val_accuracy: 0.0993\n",
            "Epoch 17/25\n",
            "10000/10000 [==============================] - 12s 1ms/step - loss: 2.3029 - accuracy: 0.0994 - val_loss: 2.3029 - val_accuracy: 0.0988\n",
            "Epoch 18/25\n",
            "10000/10000 [==============================] - 12s 1ms/step - loss: 2.3029 - accuracy: 0.0981 - val_loss: 2.3030 - val_accuracy: 0.0988\n",
            "Epoch 19/25\n",
            "10000/10000 [==============================] - 12s 1ms/step - loss: 2.3029 - accuracy: 0.0995 - val_loss: 2.3027 - val_accuracy: 0.1000\n",
            "Epoch 20/25\n",
            "10000/10000 [==============================] - 12s 1ms/step - loss: 2.3029 - accuracy: 0.0995 - val_loss: 2.3028 - val_accuracy: 0.1006\n",
            "Epoch 21/25\n",
            "10000/10000 [==============================] - 12s 1ms/step - loss: 2.3028 - accuracy: 0.0991 - val_loss: 2.3029 - val_accuracy: 0.0993\n",
            "Epoch 22/25\n",
            "10000/10000 [==============================] - 12s 1ms/step - loss: 2.3029 - accuracy: 0.1006 - val_loss: 2.3028 - val_accuracy: 0.0993\n",
            "Epoch 23/25\n",
            "10000/10000 [==============================] - 12s 1ms/step - loss: 2.3028 - accuracy: 0.0994 - val_loss: 2.3030 - val_accuracy: 0.1000\n",
            "Epoch 24/25\n",
            "10000/10000 [==============================] - 12s 1ms/step - loss: 2.3028 - accuracy: 0.1016 - val_loss: 2.3028 - val_accuracy: 0.0996\n",
            "Epoch 25/25\n",
            "10000/10000 [==============================] - 13s 1ms/step - loss: 2.3029 - accuracy: 0.1002 - val_loss: 2.3028 - val_accuracy: 0.0996\n"
          ],
          "name": "stdout"
        }
      ]
    },
    {
      "cell_type": "code",
      "metadata": {
        "id": "fBUBMnUGvfAz",
        "colab_type": "code",
        "colab": {
          "base_uri": "https://localhost:8080/",
          "height": 238
        },
        "outputId": "b3717ab5-8985-49b8-91b6-1c0811069727"
      },
      "source": [
        "import seaborn as sns\n",
        "import pandas as pd\n",
        "\n",
        "batch_sizes = []\n",
        "\n",
        "for exp, result in zip([bt_32, bt_64, bt_16, bt_128, bt_8], [\"32_\", \"64_\", \"16_\", \"128_\", \"8_\"]):\n",
        "\n",
        "  df = pd.DataFrame.from_dict(exp.history)\n",
        "  df['epoch'] = df.index.values\n",
        "  df['Batch Size'] = result\n",
        "\n",
        "  batch_sizes.append(df)\n",
        "\n",
        "df = pd.concat(batch_sizes)\n",
        "df['Batch Size'] = df['Batch Size'].astype('str')\n",
        "df.head()"
      ],
      "execution_count": 15,
      "outputs": [
        {
          "output_type": "stream",
          "text": [
            "/usr/local/lib/python3.6/dist-packages/statsmodels/tools/_testing.py:19: FutureWarning: pandas.util.testing is deprecated. Use the functions in the public API at pandas.testing instead.\n",
            "  import pandas.util.testing as tm\n"
          ],
          "name": "stderr"
        },
        {
          "output_type": "execute_result",
          "data": {
            "text/html": [
              "<div>\n",
              "<style scoped>\n",
              "    .dataframe tbody tr th:only-of-type {\n",
              "        vertical-align: middle;\n",
              "    }\n",
              "\n",
              "    .dataframe tbody tr th {\n",
              "        vertical-align: top;\n",
              "    }\n",
              "\n",
              "    .dataframe thead th {\n",
              "        text-align: right;\n",
              "    }\n",
              "</style>\n",
              "<table border=\"1\" class=\"dataframe\">\n",
              "  <thead>\n",
              "    <tr style=\"text-align: right;\">\n",
              "      <th></th>\n",
              "      <th>loss</th>\n",
              "      <th>accuracy</th>\n",
              "      <th>val_loss</th>\n",
              "      <th>val_accuracy</th>\n",
              "      <th>epoch</th>\n",
              "      <th>Batch Size</th>\n",
              "    </tr>\n",
              "  </thead>\n",
              "  <tbody>\n",
              "    <tr>\n",
              "      <th>0</th>\n",
              "      <td>5.146444</td>\n",
              "      <td>0.098937</td>\n",
              "      <td>2.302603</td>\n",
              "      <td>0.10065</td>\n",
              "      <td>0</td>\n",
              "      <td>32_</td>\n",
              "    </tr>\n",
              "    <tr>\n",
              "      <th>1</th>\n",
              "      <td>2.302674</td>\n",
              "      <td>0.098725</td>\n",
              "      <td>2.302636</td>\n",
              "      <td>0.10025</td>\n",
              "      <td>1</td>\n",
              "      <td>32_</td>\n",
              "    </tr>\n",
              "    <tr>\n",
              "      <th>2</th>\n",
              "      <td>2.302659</td>\n",
              "      <td>0.099487</td>\n",
              "      <td>2.302608</td>\n",
              "      <td>0.10000</td>\n",
              "      <td>2</td>\n",
              "      <td>32_</td>\n",
              "    </tr>\n",
              "    <tr>\n",
              "      <th>3</th>\n",
              "      <td>2.302775</td>\n",
              "      <td>0.098587</td>\n",
              "      <td>2.302618</td>\n",
              "      <td>0.10000</td>\n",
              "      <td>3</td>\n",
              "      <td>32_</td>\n",
              "    </tr>\n",
              "    <tr>\n",
              "      <th>4</th>\n",
              "      <td>2.302713</td>\n",
              "      <td>0.099475</td>\n",
              "      <td>2.302675</td>\n",
              "      <td>0.09925</td>\n",
              "      <td>4</td>\n",
              "      <td>32_</td>\n",
              "    </tr>\n",
              "  </tbody>\n",
              "</table>\n",
              "</div>"
            ],
            "text/plain": [
              "       loss  accuracy  val_loss  val_accuracy  epoch Batch Size\n",
              "0  5.146444  0.098937  2.302603       0.10065      0        32_\n",
              "1  2.302674  0.098725  2.302636       0.10025      1        32_\n",
              "2  2.302659  0.099487  2.302608       0.10000      2        32_\n",
              "3  2.302775  0.098587  2.302618       0.10000      3        32_\n",
              "4  2.302713  0.099475  2.302675       0.09925      4        32_"
            ]
          },
          "metadata": {
            "tags": []
          },
          "execution_count": 15
        }
      ]
    },
    {
      "cell_type": "code",
      "metadata": {
        "id": "4zf5vHgov0lR",
        "colab_type": "code",
        "colab": {
          "base_uri": "https://localhost:8080/",
          "height": 280
        },
        "outputId": "9060edfc-5a3d-4431-b086-f224fd691799"
      },
      "source": [
        "sns.lineplot(x='epoch', y='val_accuracy', hue='Batch Size', data=df);"
      ],
      "execution_count": 16,
      "outputs": [
        {
          "output_type": "display_data",
          "data": {
            "image/png": "[encoded data removed]",
            "text/plain": [
              "<Figure size 432x288 with 1 Axes>"
            ]
          },
          "metadata": {
            "tags": [],
            "needs_background": "light"
          }
        }
      ]
    },
    {
      "cell_type": "code",
      "metadata": {
        "id": "lCs_8W4Kv5BJ",
        "colab_type": "code",
        "colab": {
          "base_uri": "https://localhost:8080/",
          "height": 279
        },
        "outputId": "45e42d4b-07ea-4fe1-8359-f3678dfadf20"
      },
      "source": [
        "sns.lineplot(x='epoch', y='val_loss', hue='Batch Size', data=df);"
      ],
      "execution_count": 17,
      "outputs": [
        {
          "output_type": "display_data",
          "data": {
            "image/png": "[encoded data removed]",
            "text/plain": [
              "<Figure size 432x288 with 1 Axes>"
            ]
          },
          "metadata": {
            "tags": [],
            "needs_background": "light"
          }
        }
      ]
    },
    {
      "cell_type": "markdown",
      "metadata": {
        "id": "-8hHFsS96a6d",
        "colab_type": "text"
      },
      "source": [
        "The best performing model was the one with a batch size of 16. It had a .38% increase of validation accuracy compared to yesterday's model. The models using higher batch sizes had expectantly lower validation accuracy, but surprisingly the model with the batch size of 8 also had lower validation accuracy."
      ]
    },
    {
      "cell_type": "markdown",
      "metadata": {
        "colab_type": "text",
        "id": "8b-r70o8p2Dm"
      },
      "source": [
        "### Experiment with Learning Rate\n",
        "* Run 5 experiments with various learning rate magnitudes: 1, .1, .01, .001, .0001.\n",
        "* Use the \"best\" batch size from the previous experiment\n",
        "* Visualize the results\n",
        "* Write up an analysis of the experiments and select the \"best\" performing model among your experiments. Make sure to compare against the previous experiments and your model's performance yesterday. "
      ]
    },
    {
      "cell_type": "code",
      "metadata": {
        "id": "_SA144xx8Luf",
        "colab_type": "code",
        "colab": {}
      },
      "source": [
        "quickdraw10_model_1 = create_model(lr=1)\n",
        "quickdraw10_model_01 = create_model(lr=0.1)\n",
        "quickdraw10_model_001 = create_model(lr=0.01)\n",
        "quickdraw10_model_0001 = create_model(lr=0.001)\n",
        "quickdraw10_model_00001 = create_model(lr=0.0001)"
      ],
      "execution_count": 20,
      "outputs": []
    },
    {
      "cell_type": "code",
      "metadata": {
        "id": "39cxQLUgxjvc",
        "colab_type": "code",
        "colab": {
          "base_uri": "https://localhost:8080/",
          "height": 867
        },
        "outputId": "a1c7aba1-2187-4476-9023-3476a1057064"
      },
      "source": [
        "bt_1 = quickdraw10_model_1.fit(X_train, y_train,\n",
        "                                epochs=25,\n",
        "                                batch_size=16,\n",
        "                                validation_data=(X_test, y_test))"
      ],
      "execution_count": 44,
      "outputs": [
        {
          "output_type": "stream",
          "text": [
            "Epoch 1/25\n",
            "5000/5000 [==============================] - 11s 2ms/step - loss: 2.3179 - accuracy: 0.0996 - val_loss: 2.3226 - val_accuracy: 0.1001\n",
            "Epoch 2/25\n",
            "5000/5000 [==============================] - 9s 2ms/step - loss: 2.3175 - accuracy: 0.1002 - val_loss: 2.3137 - val_accuracy: 0.1000\n",
            "Epoch 3/25\n",
            "5000/5000 [==============================] - 9s 2ms/step - loss: 2.3181 - accuracy: 0.0984 - val_loss: 2.3155 - val_accuracy: 0.0993\n",
            "Epoch 4/25\n",
            "5000/5000 [==============================] - 9s 2ms/step - loss: 2.3175 - accuracy: 0.1002 - val_loss: 2.3171 - val_accuracy: 0.1001\n",
            "Epoch 5/25\n",
            "5000/5000 [==============================] - 9s 2ms/step - loss: 2.3178 - accuracy: 0.0987 - val_loss: 2.3194 - val_accuracy: 0.1019\n",
            "Epoch 6/25\n",
            "5000/5000 [==============================] - 9s 2ms/step - loss: 2.3173 - accuracy: 0.1009 - val_loss: 2.3074 - val_accuracy: 0.0993\n",
            "Epoch 7/25\n",
            "5000/5000 [==============================] - 10s 2ms/step - loss: 2.3172 - accuracy: 0.1004 - val_loss: 2.3147 - val_accuracy: 0.1002\n",
            "Epoch 8/25\n",
            "5000/5000 [==============================] - 9s 2ms/step - loss: 2.3173 - accuracy: 0.0998 - val_loss: 2.3144 - val_accuracy: 0.1019\n",
            "Epoch 9/25\n",
            "5000/5000 [==============================] - 9s 2ms/step - loss: 2.3176 - accuracy: 0.0993 - val_loss: 2.3202 - val_accuracy: 0.1000\n",
            "Epoch 10/25\n",
            "5000/5000 [==============================] - 9s 2ms/step - loss: 2.3173 - accuracy: 0.0988 - val_loss: 2.3164 - val_accuracy: 0.0996\n",
            "Epoch 11/25\n",
            "5000/5000 [==============================] - 9s 2ms/step - loss: 2.3177 - accuracy: 0.0997 - val_loss: 2.3196 - val_accuracy: 0.1000\n",
            "Epoch 12/25\n",
            "5000/5000 [==============================] - 9s 2ms/step - loss: 2.3173 - accuracy: 0.1000 - val_loss: 2.3080 - val_accuracy: 0.1000\n",
            "Epoch 13/25\n",
            "5000/5000 [==============================] - 9s 2ms/step - loss: 2.3169 - accuracy: 0.1022 - val_loss: 2.3207 - val_accuracy: 0.0996\n",
            "Epoch 14/25\n",
            "5000/5000 [==============================] - 9s 2ms/step - loss: 2.3167 - accuracy: 0.1018 - val_loss: 2.3195 - val_accuracy: 0.1001\n",
            "Epoch 15/25\n",
            "5000/5000 [==============================] - 9s 2ms/step - loss: 2.3179 - accuracy: 0.1004 - val_loss: 2.3206 - val_accuracy: 0.1002\n",
            "Epoch 16/25\n",
            "5000/5000 [==============================] - 9s 2ms/step - loss: 2.3179 - accuracy: 0.0983 - val_loss: 2.3258 - val_accuracy: 0.0988\n",
            "Epoch 17/25\n",
            "5000/5000 [==============================] - 9s 2ms/step - loss: 2.3175 - accuracy: 0.1018 - val_loss: 2.3217 - val_accuracy: 0.0988\n",
            "Epoch 18/25\n",
            "5000/5000 [==============================] - 9s 2ms/step - loss: 2.3175 - accuracy: 0.0996 - val_loss: 2.3228 - val_accuracy: 0.1006\n",
            "Epoch 19/25\n",
            "5000/5000 [==============================] - 9s 2ms/step - loss: 2.3171 - accuracy: 0.1007 - val_loss: 2.3165 - val_accuracy: 0.0996\n",
            "Epoch 20/25\n",
            "5000/5000 [==============================] - 9s 2ms/step - loss: 2.3173 - accuracy: 0.1018 - val_loss: 2.3206 - val_accuracy: 0.1001\n",
            "Epoch 21/25\n",
            "5000/5000 [==============================] - 9s 2ms/step - loss: 2.3168 - accuracy: 0.1019 - val_loss: 2.3153 - val_accuracy: 0.1019\n",
            "Epoch 22/25\n",
            "5000/5000 [==============================] - 9s 2ms/step - loss: 2.3175 - accuracy: 0.0997 - val_loss: 2.3134 - val_accuracy: 0.1019\n",
            "Epoch 23/25\n",
            "5000/5000 [==============================] - 9s 2ms/step - loss: 2.3175 - accuracy: 0.0996 - val_loss: 2.3174 - val_accuracy: 0.1019\n",
            "Epoch 24/25\n",
            "5000/5000 [==============================] - 9s 2ms/step - loss: 2.3173 - accuracy: 0.1015 - val_loss: 2.3284 - val_accuracy: 0.1000\n",
            "Epoch 25/25\n",
            "5000/5000 [==============================] - 9s 2ms/step - loss: 2.3172 - accuracy: 0.1009 - val_loss: 2.3210 - val_accuracy: 0.1001\n"
          ],
          "name": "stdout"
        }
      ]
    },
    {
      "cell_type": "code",
      "metadata": {
        "id": "ZRaARhmLx2nX",
        "colab_type": "code",
        "colab": {
          "base_uri": "https://localhost:8080/",
          "height": 867
        },
        "outputId": "6a56cd4e-1c08-4769-9c21-ccf2810b9158"
      },
      "source": [
        "bt_01 = quickdraw10_model_01.fit(X_train, y_train,\n",
        "                                epochs=25,\n",
        "                                batch_size=16,\n",
        "                                validation_data=(X_test, y_test))"
      ],
      "execution_count": 45,
      "outputs": [
        {
          "output_type": "stream",
          "text": [
            "Epoch 1/25\n",
            "5000/5000 [==============================] - 9s 2ms/step - loss: 2.3041 - accuracy: 0.0996 - val_loss: 2.3033 - val_accuracy: 0.1006\n",
            "Epoch 2/25\n",
            "5000/5000 [==============================] - 11s 2ms/step - loss: 2.3040 - accuracy: 0.1020 - val_loss: 2.3034 - val_accuracy: 0.1001\n",
            "Epoch 3/25\n",
            "5000/5000 [==============================] - 11s 2ms/step - loss: 2.3040 - accuracy: 0.0997 - val_loss: 2.3035 - val_accuracy: 0.1001\n",
            "Epoch 4/25\n",
            "5000/5000 [==============================] - 9s 2ms/step - loss: 2.3040 - accuracy: 0.0990 - val_loss: 2.3038 - val_accuracy: 0.1006\n",
            "Epoch 5/25\n",
            "5000/5000 [==============================] - 9s 2ms/step - loss: 2.3040 - accuracy: 0.0994 - val_loss: 2.3041 - val_accuracy: 0.0993\n",
            "Epoch 6/25\n",
            "5000/5000 [==============================] - 9s 2ms/step - loss: 2.3041 - accuracy: 0.0986 - val_loss: 2.3037 - val_accuracy: 0.1006\n",
            "Epoch 7/25\n",
            "5000/5000 [==============================] - 9s 2ms/step - loss: 2.3041 - accuracy: 0.1003 - val_loss: 2.3033 - val_accuracy: 0.1006\n",
            "Epoch 8/25\n",
            "5000/5000 [==============================] - 9s 2ms/step - loss: 2.3039 - accuracy: 0.1022 - val_loss: 2.3042 - val_accuracy: 0.0996\n",
            "Epoch 9/25\n",
            "5000/5000 [==============================] - 9s 2ms/step - loss: 2.3040 - accuracy: 0.1003 - val_loss: 2.3045 - val_accuracy: 0.1002\n",
            "Epoch 10/25\n",
            "5000/5000 [==============================] - 9s 2ms/step - loss: 2.3042 - accuracy: 0.1004 - val_loss: 2.3045 - val_accuracy: 0.0996\n",
            "Epoch 11/25\n",
            "5000/5000 [==============================] - 9s 2ms/step - loss: 2.3038 - accuracy: 0.1022 - val_loss: 2.3039 - val_accuracy: 0.1001\n",
            "Epoch 12/25\n",
            "5000/5000 [==============================] - 9s 2ms/step - loss: 2.3042 - accuracy: 0.1005 - val_loss: 2.3036 - val_accuracy: 0.0993\n",
            "Epoch 13/25\n",
            "5000/5000 [==============================] - 9s 2ms/step - loss: 2.3041 - accuracy: 0.0993 - val_loss: 2.3036 - val_accuracy: 0.1006\n",
            "Epoch 14/25\n",
            "5000/5000 [==============================] - 9s 2ms/step - loss: 2.3039 - accuracy: 0.0995 - val_loss: 2.3043 - val_accuracy: 0.0996\n",
            "Epoch 15/25\n",
            "5000/5000 [==============================] - 9s 2ms/step - loss: 2.3040 - accuracy: 0.0997 - val_loss: 2.3062 - val_accuracy: 0.1001\n",
            "Epoch 16/25\n",
            "5000/5000 [==============================] - 9s 2ms/step - loss: 2.3040 - accuracy: 0.1005 - val_loss: 2.3035 - val_accuracy: 0.0996\n",
            "Epoch 17/25\n",
            "5000/5000 [==============================] - 10s 2ms/step - loss: 2.3040 - accuracy: 0.1005 - val_loss: 2.3033 - val_accuracy: 0.0993\n",
            "Epoch 18/25\n",
            "5000/5000 [==============================] - 9s 2ms/step - loss: 2.3041 - accuracy: 0.1003 - val_loss: 2.3045 - val_accuracy: 0.0993\n",
            "Epoch 19/25\n",
            "5000/5000 [==============================] - 9s 2ms/step - loss: 2.3040 - accuracy: 0.0977 - val_loss: 2.3051 - val_accuracy: 0.1000\n",
            "Epoch 20/25\n",
            "5000/5000 [==============================] - 9s 2ms/step - loss: 2.3038 - accuracy: 0.1006 - val_loss: 2.3051 - val_accuracy: 0.1002\n",
            "Epoch 21/25\n",
            "5000/5000 [==============================] - 9s 2ms/step - loss: 2.3040 - accuracy: 0.0998 - val_loss: 2.3039 - val_accuracy: 0.1006\n",
            "Epoch 22/25\n",
            "5000/5000 [==============================] - 9s 2ms/step - loss: 2.3038 - accuracy: 0.1014 - val_loss: 2.3050 - val_accuracy: 0.0993\n",
            "Epoch 23/25\n",
            "5000/5000 [==============================] - 9s 2ms/step - loss: 2.3040 - accuracy: 0.1005 - val_loss: 2.3035 - val_accuracy: 0.1001\n",
            "Epoch 24/25\n",
            "5000/5000 [==============================] - 9s 2ms/step - loss: 2.3040 - accuracy: 0.1001 - val_loss: 2.3043 - val_accuracy: 0.0988\n",
            "Epoch 25/25\n",
            "5000/5000 [==============================] - 9s 2ms/step - loss: 2.3041 - accuracy: 0.1011 - val_loss: 2.3048 - val_accuracy: 0.0993\n"
          ],
          "name": "stdout"
        }
      ]
    },
    {
      "cell_type": "code",
      "metadata": {
        "id": "T9KxoGi8x4pK",
        "colab_type": "code",
        "colab": {
          "base_uri": "https://localhost:8080/",
          "height": 867
        },
        "outputId": "83ed8f30-126b-4122-9783-f0ba37352607"
      },
      "source": [
        "bt_001 = quickdraw10_model_001.fit(X_train, y_train,\n",
        "                                epochs=25,\n",
        "                                batch_size=16,\n",
        "                                validation_data=(X_test, y_test))"
      ],
      "execution_count": 46,
      "outputs": [
        {
          "output_type": "stream",
          "text": [
            "Epoch 1/25\n",
            "5000/5000 [==============================] - 9s 2ms/step - loss: 2.3026 - accuracy: 0.1003 - val_loss: 2.3028 - val_accuracy: 0.0988\n",
            "Epoch 2/25\n",
            "5000/5000 [==============================] - 9s 2ms/step - loss: 2.3027 - accuracy: 0.0991 - val_loss: 2.3026 - val_accuracy: 0.1002\n",
            "Epoch 3/25\n",
            "5000/5000 [==============================] - 9s 2ms/step - loss: 2.3027 - accuracy: 0.0978 - val_loss: 2.3026 - val_accuracy: 0.1001\n",
            "Epoch 4/25\n",
            "5000/5000 [==============================] - 9s 2ms/step - loss: 2.3027 - accuracy: 0.1000 - val_loss: 2.3026 - val_accuracy: 0.0988\n",
            "Epoch 5/25\n",
            "5000/5000 [==============================] - 9s 2ms/step - loss: 2.3027 - accuracy: 0.0987 - val_loss: 2.3026 - val_accuracy: 0.0993\n",
            "Epoch 6/25\n",
            "5000/5000 [==============================] - 9s 2ms/step - loss: 2.3027 - accuracy: 0.0987 - val_loss: 2.3027 - val_accuracy: 0.0993\n",
            "Epoch 7/25\n",
            "5000/5000 [==============================] - 9s 2ms/step - loss: 2.3027 - accuracy: 0.0987 - val_loss: 2.3026 - val_accuracy: 0.1019\n",
            "Epoch 8/25\n",
            "5000/5000 [==============================] - 9s 2ms/step - loss: 2.3027 - accuracy: 0.0995 - val_loss: 2.3028 - val_accuracy: 0.0988\n",
            "Epoch 9/25\n",
            "5000/5000 [==============================] - 9s 2ms/step - loss: 2.3027 - accuracy: 0.0992 - val_loss: 2.3026 - val_accuracy: 0.1006\n",
            "Epoch 10/25\n",
            "5000/5000 [==============================] - 9s 2ms/step - loss: 2.3027 - accuracy: 0.0990 - val_loss: 2.3027 - val_accuracy: 0.0996\n",
            "Epoch 11/25\n",
            "5000/5000 [==============================] - 9s 2ms/step - loss: 2.3027 - accuracy: 0.0981 - val_loss: 2.3027 - val_accuracy: 0.0993\n",
            "Epoch 12/25\n",
            "5000/5000 [==============================] - 9s 2ms/step - loss: 2.3027 - accuracy: 0.0983 - val_loss: 2.3028 - val_accuracy: 0.0988\n",
            "Epoch 13/25\n",
            "5000/5000 [==============================] - 10s 2ms/step - loss: 2.3027 - accuracy: 0.1010 - val_loss: 2.3026 - val_accuracy: 0.0996\n",
            "Epoch 14/25\n",
            "5000/5000 [==============================] - 10s 2ms/step - loss: 2.3027 - accuracy: 0.0998 - val_loss: 2.3027 - val_accuracy: 0.0988\n",
            "Epoch 15/25\n",
            "5000/5000 [==============================] - 9s 2ms/step - loss: 2.3027 - accuracy: 0.0978 - val_loss: 2.3026 - val_accuracy: 0.1001\n",
            "Epoch 16/25\n",
            "5000/5000 [==============================] - 9s 2ms/step - loss: 2.3027 - accuracy: 0.0988 - val_loss: 2.3027 - val_accuracy: 0.0993\n",
            "Epoch 17/25\n",
            "5000/5000 [==============================] - 9s 2ms/step - loss: 2.3027 - accuracy: 0.0983 - val_loss: 2.3027 - val_accuracy: 0.0993\n",
            "Epoch 18/25\n",
            "5000/5000 [==============================] - 9s 2ms/step - loss: 2.3027 - accuracy: 0.1004 - val_loss: 2.3027 - val_accuracy: 0.0988\n",
            "Epoch 19/25\n",
            "5000/5000 [==============================] - 9s 2ms/step - loss: 2.3027 - accuracy: 0.0966 - val_loss: 2.3027 - val_accuracy: 0.0988\n",
            "Epoch 20/25\n",
            "5000/5000 [==============================] - 9s 2ms/step - loss: 2.3027 - accuracy: 0.0975 - val_loss: 2.3027 - val_accuracy: 0.0996\n",
            "Epoch 21/25\n",
            "5000/5000 [==============================] - 9s 2ms/step - loss: 2.3027 - accuracy: 0.0996 - val_loss: 2.3027 - val_accuracy: 0.0993\n",
            "Epoch 22/25\n",
            "5000/5000 [==============================] - 9s 2ms/step - loss: 2.3027 - accuracy: 0.0986 - val_loss: 2.3026 - val_accuracy: 0.1000\n",
            "Epoch 23/25\n",
            "5000/5000 [==============================] - 9s 2ms/step - loss: 2.3027 - accuracy: 0.0992 - val_loss: 2.3027 - val_accuracy: 0.1000\n",
            "Epoch 24/25\n",
            "5000/5000 [==============================] - 9s 2ms/step - loss: 2.3027 - accuracy: 0.0976 - val_loss: 2.3027 - val_accuracy: 0.0993\n",
            "Epoch 25/25\n",
            "5000/5000 [==============================] - 9s 2ms/step - loss: 2.3027 - accuracy: 0.0994 - val_loss: 2.3027 - val_accuracy: 0.1001\n"
          ],
          "name": "stdout"
        }
      ]
    },
    {
      "cell_type": "code",
      "metadata": {
        "id": "DU4AnO6Qx6QI",
        "colab_type": "code",
        "colab": {
          "base_uri": "https://localhost:8080/",
          "height": 867
        },
        "outputId": "27dd7346-a9ba-4308-f8aa-c99dca1a0937"
      },
      "source": [
        "bt_0001 = quickdraw10_model_0001.fit(X_train, y_train,\n",
        "                                epochs=25,\n",
        "                                batch_size=16,\n",
        "                                validation_data=(X_test, y_test))"
      ],
      "execution_count": 47,
      "outputs": [
        {
          "output_type": "stream",
          "text": [
            "Epoch 1/25\n",
            "5000/5000 [==============================] - 10s 2ms/step - loss: 0.7898 - accuracy: 0.7603 - val_loss: 0.8177 - val_accuracy: 0.7599\n",
            "Epoch 2/25\n",
            "5000/5000 [==============================] - 9s 2ms/step - loss: 0.7751 - accuracy: 0.7668 - val_loss: 0.8258 - val_accuracy: 0.7643\n",
            "Epoch 3/25\n",
            "5000/5000 [==============================] - 9s 2ms/step - loss: 0.7630 - accuracy: 0.7720 - val_loss: 0.8171 - val_accuracy: 0.7632\n",
            "Epoch 4/25\n",
            "5000/5000 [==============================] - 9s 2ms/step - loss: 0.7509 - accuracy: 0.7753 - val_loss: 0.7876 - val_accuracy: 0.7718\n",
            "Epoch 5/25\n",
            "5000/5000 [==============================] - 9s 2ms/step - loss: 0.7367 - accuracy: 0.7798 - val_loss: 0.7812 - val_accuracy: 0.7699\n",
            "Epoch 6/25\n",
            "5000/5000 [==============================] - 9s 2ms/step - loss: 0.7280 - accuracy: 0.7815 - val_loss: 0.7731 - val_accuracy: 0.7699\n",
            "Epoch 7/25\n",
            "5000/5000 [==============================] - 9s 2ms/step - loss: 0.7166 - accuracy: 0.7860 - val_loss: 0.7643 - val_accuracy: 0.7721\n",
            "Epoch 8/25\n",
            "5000/5000 [==============================] - 9s 2ms/step - loss: 0.7086 - accuracy: 0.7875 - val_loss: 0.7724 - val_accuracy: 0.7746\n",
            "Epoch 9/25\n",
            "5000/5000 [==============================] - 9s 2ms/step - loss: 0.7023 - accuracy: 0.7890 - val_loss: 0.7453 - val_accuracy: 0.7789\n",
            "Epoch 10/25\n",
            "5000/5000 [==============================] - 9s 2ms/step - loss: 0.6973 - accuracy: 0.7911 - val_loss: 0.7451 - val_accuracy: 0.7805\n",
            "Epoch 11/25\n",
            "5000/5000 [==============================] - 9s 2ms/step - loss: 0.6945 - accuracy: 0.7917 - val_loss: 0.7672 - val_accuracy: 0.7807\n",
            "Epoch 12/25\n",
            "5000/5000 [==============================] - 9s 2ms/step - loss: 0.6897 - accuracy: 0.7930 - val_loss: 0.7550 - val_accuracy: 0.7813\n",
            "Epoch 13/25\n",
            "5000/5000 [==============================] - 9s 2ms/step - loss: 0.6843 - accuracy: 0.7940 - val_loss: 0.7362 - val_accuracy: 0.7822\n",
            "Epoch 14/25\n",
            "5000/5000 [==============================] - 9s 2ms/step - loss: 0.6813 - accuracy: 0.7962 - val_loss: 0.7395 - val_accuracy: 0.7824\n",
            "Epoch 15/25\n",
            "5000/5000 [==============================] - 9s 2ms/step - loss: 0.6764 - accuracy: 0.7971 - val_loss: 0.7496 - val_accuracy: 0.7814\n",
            "Epoch 16/25\n",
            "5000/5000 [==============================] - 9s 2ms/step - loss: 0.6765 - accuracy: 0.7973 - val_loss: 0.7359 - val_accuracy: 0.7818\n",
            "Epoch 17/25\n",
            "5000/5000 [==============================] - 9s 2ms/step - loss: 0.6735 - accuracy: 0.7980 - val_loss: 0.7365 - val_accuracy: 0.7836\n",
            "Epoch 18/25\n",
            "5000/5000 [==============================] - 9s 2ms/step - loss: 0.6707 - accuracy: 0.7990 - val_loss: 0.7371 - val_accuracy: 0.7846\n",
            "Epoch 19/25\n",
            "5000/5000 [==============================] - 9s 2ms/step - loss: 0.6677 - accuracy: 0.7993 - val_loss: 0.7370 - val_accuracy: 0.7818\n",
            "Epoch 20/25\n",
            "5000/5000 [==============================] - 9s 2ms/step - loss: 0.6644 - accuracy: 0.8004 - val_loss: 0.7274 - val_accuracy: 0.7866\n",
            "Epoch 21/25\n",
            "5000/5000 [==============================] - 9s 2ms/step - loss: 0.6610 - accuracy: 0.8005 - val_loss: 0.7355 - val_accuracy: 0.7843\n",
            "Epoch 22/25\n",
            "5000/5000 [==============================] - 9s 2ms/step - loss: 0.6581 - accuracy: 0.8017 - val_loss: 0.7336 - val_accuracy: 0.7860\n",
            "Epoch 23/25\n",
            "5000/5000 [==============================] - 9s 2ms/step - loss: 0.6555 - accuracy: 0.8024 - val_loss: 0.7329 - val_accuracy: 0.7828\n",
            "Epoch 24/25\n",
            "5000/5000 [==============================] - 11s 2ms/step - loss: 0.6578 - accuracy: 0.8022 - val_loss: 0.7319 - val_accuracy: 0.7829\n",
            "Epoch 25/25\n",
            "5000/5000 [==============================] - 10s 2ms/step - loss: 0.6528 - accuracy: 0.8026 - val_loss: 0.7297 - val_accuracy: 0.7853\n"
          ],
          "name": "stdout"
        }
      ]
    },
    {
      "cell_type": "code",
      "metadata": {
        "id": "_dikCx1Ux7we",
        "colab_type": "code",
        "colab": {
          "base_uri": "https://localhost:8080/",
          "height": 867
        },
        "outputId": "a79475fa-598d-4ce1-ea28-42e9258b0af1"
      },
      "source": [
        "bt_00001 = quickdraw10_model_00001.fit(X_train, y_train,\n",
        "                                epochs=25,\n",
        "                                batch_size=16,\n",
        "                                validation_data=(X_test, y_test))"
      ],
      "execution_count": 48,
      "outputs": [
        {
          "output_type": "stream",
          "text": [
            "Epoch 1/25\n",
            "5000/5000 [==============================] - 9s 2ms/step - loss: 0.9521 - accuracy: 0.7002 - val_loss: 0.9758 - val_accuracy: 0.6895\n",
            "Epoch 2/25\n",
            "5000/5000 [==============================] - 9s 2ms/step - loss: 0.9363 - accuracy: 0.7056 - val_loss: 0.9445 - val_accuracy: 0.7059\n",
            "Epoch 3/25\n",
            "5000/5000 [==============================] - 9s 2ms/step - loss: 0.9236 - accuracy: 0.7114 - val_loss: 0.9296 - val_accuracy: 0.7163\n",
            "Epoch 4/25\n",
            "5000/5000 [==============================] - 9s 2ms/step - loss: 0.9098 - accuracy: 0.7150 - val_loss: 0.9471 - val_accuracy: 0.7038\n",
            "Epoch 5/25\n",
            "5000/5000 [==============================] - 9s 2ms/step - loss: 0.8995 - accuracy: 0.7189 - val_loss: 0.9288 - val_accuracy: 0.7189\n",
            "Epoch 6/25\n",
            "5000/5000 [==============================] - 9s 2ms/step - loss: 0.8890 - accuracy: 0.7223 - val_loss: 0.9168 - val_accuracy: 0.7213\n",
            "Epoch 7/25\n",
            "5000/5000 [==============================] - 9s 2ms/step - loss: 0.8807 - accuracy: 0.7240 - val_loss: 0.9068 - val_accuracy: 0.7258\n",
            "Epoch 8/25\n",
            "5000/5000 [==============================] - 9s 2ms/step - loss: 0.8721 - accuracy: 0.7280 - val_loss: 0.8950 - val_accuracy: 0.7296\n",
            "Epoch 9/25\n",
            "5000/5000 [==============================] - 9s 2ms/step - loss: 0.8640 - accuracy: 0.7313 - val_loss: 0.8933 - val_accuracy: 0.7297\n",
            "Epoch 10/25\n",
            "5000/5000 [==============================] - 10s 2ms/step - loss: 0.8571 - accuracy: 0.7325 - val_loss: 0.8779 - val_accuracy: 0.7325\n",
            "Epoch 11/25\n",
            "5000/5000 [==============================] - 9s 2ms/step - loss: 0.8506 - accuracy: 0.7359 - val_loss: 0.8791 - val_accuracy: 0.7289\n",
            "Epoch 12/25\n",
            "5000/5000 [==============================] - 9s 2ms/step - loss: 0.8448 - accuracy: 0.7373 - val_loss: 0.8768 - val_accuracy: 0.7305\n",
            "Epoch 13/25\n",
            "5000/5000 [==============================] - 9s 2ms/step - loss: 0.8392 - accuracy: 0.7396 - val_loss: 0.8683 - val_accuracy: 0.7361\n",
            "Epoch 14/25\n",
            "5000/5000 [==============================] - 9s 2ms/step - loss: 0.8345 - accuracy: 0.7397 - val_loss: 0.8640 - val_accuracy: 0.7383\n",
            "Epoch 15/25\n",
            "5000/5000 [==============================] - 9s 2ms/step - loss: 0.8285 - accuracy: 0.7425 - val_loss: 0.8655 - val_accuracy: 0.7376\n",
            "Epoch 16/25\n",
            "5000/5000 [==============================] - 9s 2ms/step - loss: 0.8251 - accuracy: 0.7447 - val_loss: 0.8579 - val_accuracy: 0.7390\n",
            "Epoch 17/25\n",
            "5000/5000 [==============================] - 9s 2ms/step - loss: 0.8210 - accuracy: 0.7472 - val_loss: 0.8567 - val_accuracy: 0.7365\n",
            "Epoch 18/25\n",
            "5000/5000 [==============================] - 9s 2ms/step - loss: 0.8160 - accuracy: 0.7468 - val_loss: 0.8454 - val_accuracy: 0.7418\n",
            "Epoch 19/25\n",
            "5000/5000 [==============================] - 9s 2ms/step - loss: 0.8130 - accuracy: 0.7479 - val_loss: 0.8597 - val_accuracy: 0.7352\n",
            "Epoch 20/25\n",
            "5000/5000 [==============================] - 9s 2ms/step - loss: 0.8106 - accuracy: 0.7494 - val_loss: 0.8431 - val_accuracy: 0.7443\n",
            "Epoch 21/25\n",
            "5000/5000 [==============================] - 9s 2ms/step - loss: 0.8069 - accuracy: 0.7500 - val_loss: 0.8403 - val_accuracy: 0.7436\n",
            "Epoch 22/25\n",
            "5000/5000 [==============================] - 9s 2ms/step - loss: 0.8031 - accuracy: 0.7517 - val_loss: 0.8412 - val_accuracy: 0.7447\n",
            "Epoch 23/25\n",
            "5000/5000 [==============================] - 9s 2ms/step - loss: 0.8002 - accuracy: 0.7523 - val_loss: 0.8353 - val_accuracy: 0.7461\n",
            "Epoch 24/25\n",
            "5000/5000 [==============================] - 9s 2ms/step - loss: 0.7978 - accuracy: 0.7533 - val_loss: 0.8308 - val_accuracy: 0.7454\n",
            "Epoch 25/25\n",
            "5000/5000 [==============================] - 9s 2ms/step - loss: 0.7945 - accuracy: 0.7553 - val_loss: 0.8364 - val_accuracy: 0.7492\n"
          ],
          "name": "stdout"
        }
      ]
    },
    {
      "cell_type": "code",
      "metadata": {
        "id": "Z10GGx64x_qQ",
        "colab_type": "code",
        "colab": {
          "base_uri": "https://localhost:8080/",
          "height": 204
        },
        "outputId": "b8cef194-0f22-4b51-e990-831450c9266b"
      },
      "source": [
        "import seaborn as sns\n",
        "import pandas as pd\n",
        "\n",
        "learning_rates = []\n",
        "\n",
        "for exp, result in zip([bt_1, bt_01, bt_001, bt_0001, bt_00001], [\"1_\", \"0.1_\", \"0.01_\", \"0.001_\", \"0.0001_\"]):\n",
        "\n",
        "  df = pd.DataFrame.from_dict(exp.history)\n",
        "  df['epoch'] = df.index.values\n",
        "  df['Learning Rate'] = result\n",
        "\n",
        "  learning_rates.append(df)\n",
        "\n",
        "df = pd.concat(learning_rates)\n",
        "df['Learning Rate'] = df['Learning Rate'].astype('str')\n",
        "df.head()"
      ],
      "execution_count": 49,
      "outputs": [
        {
          "output_type": "execute_result",
          "data": {
            "text/html": [
              "<div>\n",
              "<style scoped>\n",
              "    .dataframe tbody tr th:only-of-type {\n",
              "        vertical-align: middle;\n",
              "    }\n",
              "\n",
              "    .dataframe tbody tr th {\n",
              "        vertical-align: top;\n",
              "    }\n",
              "\n",
              "    .dataframe thead th {\n",
              "        text-align: right;\n",
              "    }\n",
              "</style>\n",
              "<table border=\"1\" class=\"dataframe\">\n",
              "  <thead>\n",
              "    <tr style=\"text-align: right;\">\n",
              "      <th></th>\n",
              "      <th>loss</th>\n",
              "      <th>accuracy</th>\n",
              "      <th>val_loss</th>\n",
              "      <th>val_accuracy</th>\n",
              "      <th>epoch</th>\n",
              "      <th>Learning Rate</th>\n",
              "    </tr>\n",
              "  </thead>\n",
              "  <tbody>\n",
              "    <tr>\n",
              "      <th>0</th>\n",
              "      <td>2.317941</td>\n",
              "      <td>0.099588</td>\n",
              "      <td>2.322575</td>\n",
              "      <td>0.1001</td>\n",
              "      <td>0</td>\n",
              "      <td>1_</td>\n",
              "    </tr>\n",
              "    <tr>\n",
              "      <th>1</th>\n",
              "      <td>2.317523</td>\n",
              "      <td>0.100250</td>\n",
              "      <td>2.313651</td>\n",
              "      <td>0.1000</td>\n",
              "      <td>1</td>\n",
              "      <td>1_</td>\n",
              "    </tr>\n",
              "    <tr>\n",
              "      <th>2</th>\n",
              "      <td>2.318112</td>\n",
              "      <td>0.098362</td>\n",
              "      <td>2.315492</td>\n",
              "      <td>0.0993</td>\n",
              "      <td>2</td>\n",
              "      <td>1_</td>\n",
              "    </tr>\n",
              "    <tr>\n",
              "      <th>3</th>\n",
              "      <td>2.317546</td>\n",
              "      <td>0.100175</td>\n",
              "      <td>2.317085</td>\n",
              "      <td>0.1001</td>\n",
              "      <td>3</td>\n",
              "      <td>1_</td>\n",
              "    </tr>\n",
              "    <tr>\n",
              "      <th>4</th>\n",
              "      <td>2.317752</td>\n",
              "      <td>0.098700</td>\n",
              "      <td>2.319386</td>\n",
              "      <td>0.1019</td>\n",
              "      <td>4</td>\n",
              "      <td>1_</td>\n",
              "    </tr>\n",
              "  </tbody>\n",
              "</table>\n",
              "</div>"
            ],
            "text/plain": [
              "       loss  accuracy  val_loss  val_accuracy  epoch Learning Rate\n",
              "0  2.317941  0.099588  2.322575        0.1001      0            1_\n",
              "1  2.317523  0.100250  2.313651        0.1000      1            1_\n",
              "2  2.318112  0.098362  2.315492        0.0993      2            1_\n",
              "3  2.317546  0.100175  2.317085        0.1001      3            1_\n",
              "4  2.317752  0.098700  2.319386        0.1019      4            1_"
            ]
          },
          "metadata": {
            "tags": []
          },
          "execution_count": 49
        }
      ]
    },
    {
      "cell_type": "code",
      "metadata": {
        "id": "n1Nx1ZA6yVu8",
        "colab_type": "code",
        "colab": {
          "base_uri": "https://localhost:8080/",
          "height": 279
        },
        "outputId": "167e9e0a-3513-4a7b-fd7e-37bb7ebc37b1"
      },
      "source": [
        "sns.lineplot(x='epoch', y='val_accuracy', hue='Learning Rate', data=df);"
      ],
      "execution_count": 50,
      "outputs": [
        {
          "output_type": "display_data",
          "data": {
            "image/png": "[encoded data removed]",
            "text/plain": [
              "<Figure size 432x288 with 1 Axes>"
            ]
          },
          "metadata": {
            "tags": [],
            "needs_background": "light"
          }
        }
      ]
    },
    {
      "cell_type": "code",
      "metadata": {
        "id": "j3YE7MEYyZHJ",
        "colab_type": "code",
        "colab": {
          "base_uri": "https://localhost:8080/",
          "height": 282
        },
        "outputId": "921fe87a-c90c-41c8-837b-41f747bc2440"
      },
      "source": [
        "sns.lineplot(x='epoch', y='val_loss', hue='Learning Rate', data=df);"
      ],
      "execution_count": 51,
      "outputs": [
        {
          "output_type": "display_data",
          "data": {
            "image/png": "[encoded data removed]",
            "text/plain": [
              "<Figure size 432x288 with 1 Axes>"
            ]
          },
          "metadata": {
            "tags": [],
            "needs_background": "light"
          }
        }
      ]
    },
    {
      "cell_type": "markdown",
      "metadata": {
        "id": "45GKSuDb7zVP",
        "colab_type": "text"
      },
      "source": [
        "The best performing model was the one with a learning rate of 0.001. It had a 68.34% increase of validation accuracy compared to the previous model and a 68.72% increase of validation accuracy compared to yesterday's model. The models using higher learning rates had expectantly lower validation accuracy, but surprisingly the model with the learning rate of 0.0001 also had lower validation accuracy."
      ]
    },
    {
      "cell_type": "markdown",
      "metadata": {
        "id": "gxMtSRhV9Q7I",
        "colab_type": "text"
      },
      "source": [
        "### Experiment with different Optimizers\n",
        "* Run 5 experiments with various optimizers available in TensorFlow. See list [here](https://www.tensorflow.org/api_docs/python/tf/keras/optimizers)\n",
        "* Visualize the results\n",
        "* Write up an analysis of the experiments and select the \"best\" performing model among your experiments. Make sure to compare against the previous experiments and your model's performance yesterday.\n",
        "* Repeat the experiment combining Learning Rate and different optimizers. Does the best performing model change? "
      ]
    },
    {
      "cell_type": "code",
      "metadata": {
        "id": "ujLuzdNA91ip",
        "colab_type": "code",
        "colab": {}
      },
      "source": [
        "quickdraw10_model_adadelta = create_model(lr=0.001, opt='Adadelta')\n",
        "quickdraw10_model_adagrad = create_model(lr=0.001, opt='Adagrad')\n",
        "quickdraw10_model_adam = create_model(lr=0.001, opt='Adam')\n",
        "quickdraw10_model_adamax = create_model(lr=0.001, opt='Adamax')\n",
        "quickdraw10_model_sgd = create_model(lr=0.001, opt='SGD')"
      ],
      "execution_count": 52,
      "outputs": []
    },
    {
      "cell_type": "code",
      "metadata": {
        "id": "HLNZvmBO0qR_",
        "colab_type": "code",
        "colab": {
          "base_uri": "https://localhost:8080/",
          "height": 867
        },
        "outputId": "8f33ff51-e1dd-4a54-cde6-8e6df8fe9770"
      },
      "source": [
        "bt_adadelta = quickdraw10_model_adadelta.fit(X_train, y_train,\n",
        "                                epochs=25,\n",
        "                                batch_size=16,\n",
        "                                validation_data=(X_test, y_test))"
      ],
      "execution_count": 53,
      "outputs": [
        {
          "output_type": "stream",
          "text": [
            "Epoch 1/25\n",
            "5000/5000 [==============================] - 8s 2ms/step - loss: 98.2010 - accuracy: 0.0954 - val_loss: 63.1273 - val_accuracy: 0.1011\n",
            "Epoch 2/25\n",
            "5000/5000 [==============================] - 7s 1ms/step - loss: 50.4707 - accuracy: 0.1270 - val_loss: 42.0206 - val_accuracy: 0.1458\n",
            "Epoch 3/25\n",
            "5000/5000 [==============================] - 7s 1ms/step - loss: 36.5111 - accuracy: 0.1647 - val_loss: 32.5527 - val_accuracy: 0.1762\n",
            "Epoch 4/25\n",
            "5000/5000 [==============================] - 7s 1ms/step - loss: 29.4672 - accuracy: 0.1906 - val_loss: 26.9931 - val_accuracy: 0.1973\n",
            "Epoch 5/25\n",
            "5000/5000 [==============================] - 7s 1ms/step - loss: 24.9731 - accuracy: 0.2090 - val_loss: 23.1611 - val_accuracy: 0.2148\n",
            "Epoch 6/25\n",
            "5000/5000 [==============================] - 7s 1ms/step - loss: 21.7323 - accuracy: 0.2247 - val_loss: 20.2995 - val_accuracy: 0.2313\n",
            "Epoch 7/25\n",
            "5000/5000 [==============================] - 7s 1ms/step - loss: 19.2143 - accuracy: 0.2374 - val_loss: 18.0442 - val_accuracy: 0.2418\n",
            "Epoch 8/25\n",
            "5000/5000 [==============================] - 7s 1ms/step - loss: 17.1820 - accuracy: 0.2471 - val_loss: 16.1855 - val_accuracy: 0.2508\n",
            "Epoch 9/25\n",
            "5000/5000 [==============================] - 7s 1ms/step - loss: 15.4807 - accuracy: 0.2547 - val_loss: 14.5998 - val_accuracy: 0.2564\n",
            "Epoch 10/25\n",
            "5000/5000 [==============================] - 7s 1ms/step - loss: 14.0209 - accuracy: 0.2611 - val_loss: 13.2461 - val_accuracy: 0.2618\n",
            "Epoch 11/25\n",
            "5000/5000 [==============================] - 7s 1ms/step - loss: 12.7708 - accuracy: 0.2651 - val_loss: 12.0839 - val_accuracy: 0.2670\n",
            "Epoch 12/25\n",
            "5000/5000 [==============================] - 8s 2ms/step - loss: 11.6707 - accuracy: 0.2689 - val_loss: 11.0445 - val_accuracy: 0.2706\n",
            "Epoch 13/25\n",
            "5000/5000 [==============================] - 7s 1ms/step - loss: 10.6936 - accuracy: 0.2727 - val_loss: 10.1186 - val_accuracy: 0.2746\n",
            "Epoch 14/25\n",
            "5000/5000 [==============================] - 7s 1ms/step - loss: 9.7961 - accuracy: 0.2757 - val_loss: 9.2568 - val_accuracy: 0.2760\n",
            "Epoch 15/25\n",
            "5000/5000 [==============================] - 7s 1ms/step - loss: 8.9422 - accuracy: 0.2773 - val_loss: 8.4424 - val_accuracy: 0.2763\n",
            "Epoch 16/25\n",
            "5000/5000 [==============================] - 7s 1ms/step - loss: 8.1224 - accuracy: 0.2767 - val_loss: 7.6427 - val_accuracy: 0.2790\n",
            "Epoch 17/25\n",
            "5000/5000 [==============================] - 7s 1ms/step - loss: 7.3127 - accuracy: 0.2757 - val_loss: 6.8343 - val_accuracy: 0.2743\n",
            "Epoch 18/25\n",
            "5000/5000 [==============================] - 7s 1ms/step - loss: 6.5062 - accuracy: 0.2723 - val_loss: 6.0350 - val_accuracy: 0.2699\n",
            "Epoch 19/25\n",
            "5000/5000 [==============================] - 7s 1ms/step - loss: 5.7288 - accuracy: 0.2677 - val_loss: 5.2975 - val_accuracy: 0.2639\n",
            "Epoch 20/25\n",
            "5000/5000 [==============================] - 7s 1ms/step - loss: 5.0254 - accuracy: 0.2640 - val_loss: 4.6549 - val_accuracy: 0.2607\n",
            "Epoch 21/25\n",
            "5000/5000 [==============================] - 7s 1ms/step - loss: 4.4300 - accuracy: 0.2675 - val_loss: 4.1388 - val_accuracy: 0.2731\n",
            "Epoch 22/25\n",
            "5000/5000 [==============================] - 7s 1ms/step - loss: 3.9799 - accuracy: 0.2835 - val_loss: 3.7579 - val_accuracy: 0.2892\n",
            "Epoch 23/25\n",
            "5000/5000 [==============================] - 7s 1ms/step - loss: 3.6446 - accuracy: 0.2855 - val_loss: 3.4653 - val_accuracy: 0.2885\n",
            "Epoch 24/25\n",
            "5000/5000 [==============================] - 7s 1ms/step - loss: 3.3904 - accuracy: 0.2848 - val_loss: 3.2403 - val_accuracy: 0.2885\n",
            "Epoch 25/25\n",
            "5000/5000 [==============================] - 7s 1ms/step - loss: 3.1940 - accuracy: 0.2836 - val_loss: 3.0634 - val_accuracy: 0.2880\n"
          ],
          "name": "stdout"
        }
      ]
    },
    {
      "cell_type": "code",
      "metadata": {
        "id": "S5K8RAi10vSY",
        "colab_type": "code",
        "colab": {
          "base_uri": "https://localhost:8080/",
          "height": 867
        },
        "outputId": "cbeef29d-a5d3-4d1c-bce6-4203c2206c72"
      },
      "source": [
        "bt_adagrad = quickdraw10_model_adagrad.fit(X_train, y_train,\n",
        "                                epochs=25,\n",
        "                                batch_size=16,\n",
        "                                validation_data=(X_test, y_test))"
      ],
      "execution_count": 54,
      "outputs": [
        {
          "output_type": "stream",
          "text": [
            "Epoch 1/25\n",
            "5000/5000 [==============================] - 7s 1ms/step - loss: 6.2657 - accuracy: 0.3082 - val_loss: 2.4394 - val_accuracy: 0.3188\n",
            "Epoch 2/25\n",
            "5000/5000 [==============================] - 6s 1ms/step - loss: 2.2112 - accuracy: 0.3225 - val_loss: 2.0745 - val_accuracy: 0.3226\n",
            "Epoch 3/25\n",
            "5000/5000 [==============================] - 6s 1ms/step - loss: 2.0106 - accuracy: 0.3321 - val_loss: 1.9617 - val_accuracy: 0.3573\n",
            "Epoch 4/25\n",
            "5000/5000 [==============================] - 7s 1ms/step - loss: 1.9159 - accuracy: 0.3628 - val_loss: 1.8884 - val_accuracy: 0.3705\n",
            "Epoch 5/25\n",
            "5000/5000 [==============================] - 7s 1ms/step - loss: 1.8479 - accuracy: 0.3778 - val_loss: 1.8345 - val_accuracy: 0.3841\n",
            "Epoch 6/25\n",
            "5000/5000 [==============================] - 6s 1ms/step - loss: 1.7963 - accuracy: 0.3895 - val_loss: 1.7929 - val_accuracy: 0.3947\n",
            "Epoch 7/25\n",
            "5000/5000 [==============================] - 6s 1ms/step - loss: 1.7556 - accuracy: 0.3986 - val_loss: 1.7598 - val_accuracy: 0.4040\n",
            "Epoch 8/25\n",
            "5000/5000 [==============================] - 6s 1ms/step - loss: 1.7252 - accuracy: 0.4063 - val_loss: 1.7346 - val_accuracy: 0.4086\n",
            "Epoch 9/25\n",
            "5000/5000 [==============================] - 6s 1ms/step - loss: 1.7011 - accuracy: 0.4115 - val_loss: 1.7142 - val_accuracy: 0.4119\n",
            "Epoch 10/25\n",
            "5000/5000 [==============================] - 6s 1ms/step - loss: 1.6804 - accuracy: 0.4389 - val_loss: 1.6964 - val_accuracy: 0.4469\n",
            "Epoch 11/25\n",
            "5000/5000 [==============================] - 6s 1ms/step - loss: 1.6620 - accuracy: 0.4509 - val_loss: 1.6801 - val_accuracy: 0.4523\n",
            "Epoch 12/25\n",
            "5000/5000 [==============================] - 7s 1ms/step - loss: 1.6456 - accuracy: 0.4560 - val_loss: 1.6647 - val_accuracy: 0.4573\n",
            "Epoch 13/25\n",
            "5000/5000 [==============================] - 7s 1ms/step - loss: 1.6307 - accuracy: 0.4595 - val_loss: 1.6509 - val_accuracy: 0.4612\n",
            "Epoch 14/25\n",
            "5000/5000 [==============================] - 6s 1ms/step - loss: 1.6169 - accuracy: 0.4630 - val_loss: 1.6378 - val_accuracy: 0.4649\n",
            "Epoch 15/25\n",
            "5000/5000 [==============================] - 6s 1ms/step - loss: 1.6035 - accuracy: 0.4677 - val_loss: 1.6253 - val_accuracy: 0.4706\n",
            "Epoch 16/25\n",
            "5000/5000 [==============================] - 6s 1ms/step - loss: 1.5902 - accuracy: 0.4712 - val_loss: 1.6129 - val_accuracy: 0.4749\n",
            "Epoch 17/25\n",
            "5000/5000 [==============================] - 6s 1ms/step - loss: 1.5779 - accuracy: 0.4754 - val_loss: 1.6018 - val_accuracy: 0.4782\n",
            "Epoch 18/25\n",
            "5000/5000 [==============================] - 6s 1ms/step - loss: 1.5661 - accuracy: 0.4787 - val_loss: 1.5913 - val_accuracy: 0.4805\n",
            "Epoch 19/25\n",
            "5000/5000 [==============================] - 6s 1ms/step - loss: 1.5549 - accuracy: 0.4822 - val_loss: 1.5819 - val_accuracy: 0.4830\n",
            "Epoch 20/25\n",
            "5000/5000 [==============================] - 7s 1ms/step - loss: 1.5444 - accuracy: 0.4846 - val_loss: 1.5727 - val_accuracy: 0.4869\n",
            "Epoch 21/25\n",
            "5000/5000 [==============================] - 7s 1ms/step - loss: 1.5340 - accuracy: 0.4875 - val_loss: 1.5632 - val_accuracy: 0.4894\n",
            "Epoch 22/25\n",
            "5000/5000 [==============================] - 7s 1ms/step - loss: 1.5235 - accuracy: 0.4906 - val_loss: 1.5541 - val_accuracy: 0.4920\n",
            "Epoch 23/25\n",
            "5000/5000 [==============================] - 8s 2ms/step - loss: 1.5135 - accuracy: 0.4934 - val_loss: 1.5457 - val_accuracy: 0.4943\n",
            "Epoch 24/25\n",
            "5000/5000 [==============================] - 8s 2ms/step - loss: 1.5038 - accuracy: 0.4961 - val_loss: 1.5366 - val_accuracy: 0.4970\n",
            "Epoch 25/25\n",
            "5000/5000 [==============================] - 7s 1ms/step - loss: 1.4943 - accuracy: 0.4988 - val_loss: 1.5279 - val_accuracy: 0.4987\n"
          ],
          "name": "stdout"
        }
      ]
    },
    {
      "cell_type": "code",
      "metadata": {
        "id": "DfZBhsvX0yg1",
        "colab_type": "code",
        "colab": {
          "base_uri": "https://localhost:8080/",
          "height": 867
        },
        "outputId": "46eaa848-585d-45d8-f8e4-ccf1917da797"
      },
      "source": [
        "bt_adam = quickdraw10_model_adam.fit(X_train, y_train,\n",
        "                                epochs=25,\n",
        "                                batch_size=16,\n",
        "                                validation_data=(X_test, y_test))"
      ],
      "execution_count": 55,
      "outputs": [
        {
          "output_type": "stream",
          "text": [
            "Epoch 1/25\n",
            "5000/5000 [==============================] - 7s 1ms/step - loss: 1.8756 - accuracy: 0.4328 - val_loss: 1.4628 - val_accuracy: 0.4894\n",
            "Epoch 2/25\n",
            "5000/5000 [==============================] - 7s 1ms/step - loss: 1.3486 - accuracy: 0.5337 - val_loss: 1.3040 - val_accuracy: 0.5408\n",
            "Epoch 3/25\n",
            "5000/5000 [==============================] - 7s 1ms/step - loss: 1.2788 - accuracy: 0.5561 - val_loss: 1.1956 - val_accuracy: 0.5860\n",
            "Epoch 4/25\n",
            "5000/5000 [==============================] - 7s 1ms/step - loss: 1.2297 - accuracy: 0.5705 - val_loss: 1.1783 - val_accuracy: 0.5904\n",
            "Epoch 5/25\n",
            "5000/5000 [==============================] - 7s 1ms/step - loss: 1.1764 - accuracy: 0.5897 - val_loss: 1.1453 - val_accuracy: 0.5993\n",
            "Epoch 6/25\n",
            "5000/5000 [==============================] - 7s 1ms/step - loss: 1.1386 - accuracy: 0.6059 - val_loss: 1.1225 - val_accuracy: 0.6261\n",
            "Epoch 7/25\n",
            "5000/5000 [==============================] - 9s 2ms/step - loss: 1.0814 - accuracy: 0.6233 - val_loss: 1.0487 - val_accuracy: 0.6369\n",
            "Epoch 8/25\n",
            "5000/5000 [==============================] - 7s 1ms/step - loss: 1.0253 - accuracy: 0.6490 - val_loss: 1.0278 - val_accuracy: 0.6666\n",
            "Epoch 9/25\n",
            "5000/5000 [==============================] - 7s 1ms/step - loss: 0.9876 - accuracy: 0.6713 - val_loss: 0.9822 - val_accuracy: 0.6854\n",
            "Epoch 10/25\n",
            "5000/5000 [==============================] - 7s 1ms/step - loss: 0.9434 - accuracy: 0.6911 - val_loss: 0.9744 - val_accuracy: 0.6814\n",
            "Epoch 11/25\n",
            "5000/5000 [==============================] - 7s 1ms/step - loss: 0.9186 - accuracy: 0.7023 - val_loss: 0.9517 - val_accuracy: 0.6916\n",
            "Epoch 12/25\n",
            "5000/5000 [==============================] - 7s 1ms/step - loss: 0.9106 - accuracy: 0.7048 - val_loss: 0.9331 - val_accuracy: 0.6969\n",
            "Epoch 13/25\n",
            "5000/5000 [==============================] - 7s 1ms/step - loss: 0.8932 - accuracy: 0.7144 - val_loss: 0.9556 - val_accuracy: 0.6985\n",
            "Epoch 14/25\n",
            "5000/5000 [==============================] - 7s 1ms/step - loss: 0.8870 - accuracy: 0.7162 - val_loss: 0.9009 - val_accuracy: 0.7200\n",
            "Epoch 15/25\n",
            "5000/5000 [==============================] - 7s 1ms/step - loss: 0.8870 - accuracy: 0.7177 - val_loss: 0.9058 - val_accuracy: 0.7081\n",
            "Epoch 16/25\n",
            "5000/5000 [==============================] - 7s 1ms/step - loss: 0.8819 - accuracy: 0.7214 - val_loss: 0.8957 - val_accuracy: 0.7149\n",
            "Epoch 17/25\n",
            "5000/5000 [==============================] - 7s 1ms/step - loss: 0.8716 - accuracy: 0.7268 - val_loss: 0.9097 - val_accuracy: 0.7134\n",
            "Epoch 18/25\n",
            "5000/5000 [==============================] - 7s 1ms/step - loss: 0.8849 - accuracy: 0.7192 - val_loss: 0.9419 - val_accuracy: 0.7098\n",
            "Epoch 19/25\n",
            "5000/5000 [==============================] - 7s 1ms/step - loss: 0.8753 - accuracy: 0.7244 - val_loss: 0.9062 - val_accuracy: 0.7132\n",
            "Epoch 20/25\n",
            "5000/5000 [==============================] - 7s 1ms/step - loss: 0.8718 - accuracy: 0.7261 - val_loss: 0.9209 - val_accuracy: 0.7134\n",
            "Epoch 21/25\n",
            "5000/5000 [==============================] - 7s 1ms/step - loss: 0.8693 - accuracy: 0.7285 - val_loss: 0.9326 - val_accuracy: 0.7134\n",
            "Epoch 22/25\n",
            "5000/5000 [==============================] - 7s 1ms/step - loss: 0.8922 - accuracy: 0.7175 - val_loss: 0.9092 - val_accuracy: 0.7196\n",
            "Epoch 23/25\n",
            "5000/5000 [==============================] - 7s 1ms/step - loss: 0.8910 - accuracy: 0.7175 - val_loss: 0.8987 - val_accuracy: 0.7279\n",
            "Epoch 24/25\n",
            "5000/5000 [==============================] - 7s 1ms/step - loss: 0.8705 - accuracy: 0.7282 - val_loss: 0.9193 - val_accuracy: 0.7175\n",
            "Epoch 25/25\n",
            "5000/5000 [==============================] - 7s 1ms/step - loss: 0.8866 - accuracy: 0.7175 - val_loss: 0.9255 - val_accuracy: 0.7229\n"
          ],
          "name": "stdout"
        }
      ]
    },
    {
      "cell_type": "code",
      "metadata": {
        "id": "41UxqAfO005f",
        "colab_type": "code",
        "colab": {
          "base_uri": "https://localhost:8080/",
          "height": 867
        },
        "outputId": "6755ed49-ae99-457a-cd77-3cc6afe06bfb"
      },
      "source": [
        "bt_adamax = quickdraw10_model_adamax.fit(X_train, y_train,\n",
        "                                epochs=25,\n",
        "                                batch_size=16,\n",
        "                                validation_data=(X_test, y_test))"
      ],
      "execution_count": 56,
      "outputs": [
        {
          "output_type": "stream",
          "text": [
            "Epoch 1/25\n",
            "5000/5000 [==============================] - 7s 1ms/step - loss: 2.8054 - accuracy: 0.3820 - val_loss: 1.4581 - val_accuracy: 0.4916\n",
            "Epoch 2/25\n",
            "5000/5000 [==============================] - 7s 1ms/step - loss: 1.3452 - accuracy: 0.5300 - val_loss: 1.2468 - val_accuracy: 0.5624\n",
            "Epoch 3/25\n",
            "5000/5000 [==============================] - 7s 1ms/step - loss: 1.1991 - accuracy: 0.5793 - val_loss: 1.1564 - val_accuracy: 0.6000\n",
            "Epoch 4/25\n",
            "5000/5000 [==============================] - 7s 1ms/step - loss: 1.1230 - accuracy: 0.6098 - val_loss: 1.1132 - val_accuracy: 0.6084\n",
            "Epoch 5/25\n",
            "5000/5000 [==============================] - 7s 1ms/step - loss: 1.0732 - accuracy: 0.6302 - val_loss: 1.0631 - val_accuracy: 0.6437\n",
            "Epoch 6/25\n",
            "5000/5000 [==============================] - 7s 1ms/step - loss: 1.0399 - accuracy: 0.6477 - val_loss: 1.0453 - val_accuracy: 0.6551\n",
            "Epoch 7/25\n",
            "5000/5000 [==============================] - 7s 1ms/step - loss: 1.0082 - accuracy: 0.6645 - val_loss: 1.0335 - val_accuracy: 0.6791\n",
            "Epoch 8/25\n",
            "5000/5000 [==============================] - 7s 1ms/step - loss: 0.9785 - accuracy: 0.6822 - val_loss: 0.9942 - val_accuracy: 0.6888\n",
            "Epoch 9/25\n",
            "5000/5000 [==============================] - 7s 1ms/step - loss: 0.9533 - accuracy: 0.6927 - val_loss: 0.9702 - val_accuracy: 0.6977\n",
            "Epoch 10/25\n",
            "5000/5000 [==============================] - 7s 1ms/step - loss: 0.9290 - accuracy: 0.7091 - val_loss: 0.9516 - val_accuracy: 0.7159\n",
            "Epoch 11/25\n",
            "5000/5000 [==============================] - 6s 1ms/step - loss: 0.9051 - accuracy: 0.7192 - val_loss: 0.9306 - val_accuracy: 0.7276\n",
            "Epoch 12/25\n",
            "5000/5000 [==============================] - 7s 1ms/step - loss: 0.8804 - accuracy: 0.7327 - val_loss: 0.9176 - val_accuracy: 0.7355\n",
            "Epoch 13/25\n",
            "5000/5000 [==============================] - 7s 1ms/step - loss: 0.8555 - accuracy: 0.7442 - val_loss: 0.8965 - val_accuracy: 0.7448\n",
            "Epoch 14/25\n",
            "5000/5000 [==============================] - 7s 1ms/step - loss: 0.8342 - accuracy: 0.7534 - val_loss: 0.8783 - val_accuracy: 0.7459\n",
            "Epoch 15/25\n",
            "5000/5000 [==============================] - 7s 1ms/step - loss: 0.8168 - accuracy: 0.7558 - val_loss: 0.8680 - val_accuracy: 0.7453\n",
            "Epoch 16/25\n",
            "5000/5000 [==============================] - 6s 1ms/step - loss: 0.8060 - accuracy: 0.7598 - val_loss: 0.8652 - val_accuracy: 0.7473\n",
            "Epoch 17/25\n",
            "5000/5000 [==============================] - 7s 1ms/step - loss: 0.7914 - accuracy: 0.7656 - val_loss: 0.8733 - val_accuracy: 0.7416\n",
            "Epoch 18/25\n",
            "5000/5000 [==============================] - 7s 1ms/step - loss: 0.7846 - accuracy: 0.7660 - val_loss: 0.8488 - val_accuracy: 0.7577\n",
            "Epoch 19/25\n",
            "5000/5000 [==============================] - 8s 2ms/step - loss: 0.7758 - accuracy: 0.7680 - val_loss: 0.8463 - val_accuracy: 0.7554\n",
            "Epoch 20/25\n",
            "5000/5000 [==============================] - 8s 2ms/step - loss: 0.7673 - accuracy: 0.7715 - val_loss: 0.8417 - val_accuracy: 0.7562\n",
            "Epoch 21/25\n",
            "5000/5000 [==============================] - 7s 1ms/step - loss: 0.7580 - accuracy: 0.7731 - val_loss: 0.8222 - val_accuracy: 0.7589\n",
            "Epoch 22/25\n",
            "5000/5000 [==============================] - 7s 1ms/step - loss: 0.7498 - accuracy: 0.7750 - val_loss: 0.8235 - val_accuracy: 0.7650\n",
            "Epoch 23/25\n",
            "5000/5000 [==============================] - 7s 1ms/step - loss: 0.7444 - accuracy: 0.7774 - val_loss: 0.8259 - val_accuracy: 0.7641\n",
            "Epoch 24/25\n",
            "5000/5000 [==============================] - 7s 1ms/step - loss: 0.7391 - accuracy: 0.7789 - val_loss: 0.8248 - val_accuracy: 0.7588\n",
            "Epoch 25/25\n",
            "5000/5000 [==============================] - 7s 1ms/step - loss: 0.7327 - accuracy: 0.7800 - val_loss: 0.8166 - val_accuracy: 0.7656\n"
          ],
          "name": "stdout"
        }
      ]
    },
    {
      "cell_type": "code",
      "metadata": {
        "id": "0QWHwOqZ03he",
        "colab_type": "code",
        "colab": {
          "base_uri": "https://localhost:8080/",
          "height": 867
        },
        "outputId": "9097813c-1a42-4a8c-b54f-c0fc80dee9b1"
      },
      "source": [
        "bt_sgd = quickdraw10_model_sgd.fit(X_train, y_train,\n",
        "                                epochs=25,\n",
        "                                batch_size=16,\n",
        "                                validation_data=(X_test, y_test))"
      ],
      "execution_count": 57,
      "outputs": [
        {
          "output_type": "stream",
          "text": [
            "Epoch 1/25\n",
            "5000/5000 [==============================] - 9s 2ms/step - loss: 1.8018 - accuracy: 0.4082 - val_loss: 1.4215 - val_accuracy: 0.5188\n",
            "Epoch 2/25\n",
            "5000/5000 [==============================] - 6s 1ms/step - loss: 1.3182 - accuracy: 0.5639 - val_loss: 1.2656 - val_accuracy: 0.5673\n",
            "Epoch 3/25\n",
            "5000/5000 [==============================] - 6s 1ms/step - loss: 1.1932 - accuracy: 0.6041 - val_loss: 1.1774 - val_accuracy: 0.6125\n",
            "Epoch 4/25\n",
            "5000/5000 [==============================] - 6s 1ms/step - loss: 1.1128 - accuracy: 0.6382 - val_loss: 1.1064 - val_accuracy: 0.6381\n",
            "Epoch 5/25\n",
            "5000/5000 [==============================] - 6s 1ms/step - loss: 1.0462 - accuracy: 0.6701 - val_loss: 1.0477 - val_accuracy: 0.6709\n",
            "Epoch 6/25\n",
            "5000/5000 [==============================] - 6s 1ms/step - loss: 0.9982 - accuracy: 0.6860 - val_loss: 1.0019 - val_accuracy: 0.6841\n",
            "Epoch 7/25\n",
            "5000/5000 [==============================] - 6s 1ms/step - loss: 0.9657 - accuracy: 0.6954 - val_loss: 0.9744 - val_accuracy: 0.6973\n",
            "Epoch 8/25\n",
            "5000/5000 [==============================] - 6s 1ms/step - loss: 0.9395 - accuracy: 0.7046 - val_loss: 0.9601 - val_accuracy: 0.6988\n",
            "Epoch 9/25\n",
            "5000/5000 [==============================] - 6s 1ms/step - loss: 0.9192 - accuracy: 0.7118 - val_loss: 0.9490 - val_accuracy: 0.7094\n",
            "Epoch 10/25\n",
            "5000/5000 [==============================] - 6s 1ms/step - loss: 0.8992 - accuracy: 0.7177 - val_loss: 0.9152 - val_accuracy: 0.7118\n",
            "Epoch 11/25\n",
            "5000/5000 [==============================] - 6s 1ms/step - loss: 0.8840 - accuracy: 0.7226 - val_loss: 0.9023 - val_accuracy: 0.7207\n",
            "Epoch 12/25\n",
            "5000/5000 [==============================] - 6s 1ms/step - loss: 0.8687 - accuracy: 0.7293 - val_loss: 0.9063 - val_accuracy: 0.7249\n",
            "Epoch 13/25\n",
            "5000/5000 [==============================] - 6s 1ms/step - loss: 0.8518 - accuracy: 0.7359 - val_loss: 0.8860 - val_accuracy: 0.7374\n",
            "Epoch 14/25\n",
            "5000/5000 [==============================] - 6s 1ms/step - loss: 0.8418 - accuracy: 0.7414 - val_loss: 0.8844 - val_accuracy: 0.7335\n",
            "Epoch 15/25\n",
            "5000/5000 [==============================] - 6s 1ms/step - loss: 0.8325 - accuracy: 0.7412 - val_loss: 0.8586 - val_accuracy: 0.7352\n",
            "Epoch 16/25\n",
            "5000/5000 [==============================] - 6s 1ms/step - loss: 0.8251 - accuracy: 0.7450 - val_loss: 0.8676 - val_accuracy: 0.7341\n",
            "Epoch 17/25\n",
            "5000/5000 [==============================] - 6s 1ms/step - loss: 0.8205 - accuracy: 0.7453 - val_loss: 0.8572 - val_accuracy: 0.7361\n",
            "Epoch 18/25\n",
            "5000/5000 [==============================] - 6s 1ms/step - loss: 0.8145 - accuracy: 0.7476 - val_loss: 0.8504 - val_accuracy: 0.7383\n",
            "Epoch 19/25\n",
            "5000/5000 [==============================] - 6s 1ms/step - loss: 0.8111 - accuracy: 0.7486 - val_loss: 0.8456 - val_accuracy: 0.7392\n",
            "Epoch 20/25\n",
            "5000/5000 [==============================] - 6s 1ms/step - loss: 0.8062 - accuracy: 0.7518 - val_loss: 0.8435 - val_accuracy: 0.7398\n",
            "Epoch 21/25\n",
            "5000/5000 [==============================] - 6s 1ms/step - loss: 0.8003 - accuracy: 0.7511 - val_loss: 0.8671 - val_accuracy: 0.7391\n",
            "Epoch 22/25\n",
            "5000/5000 [==============================] - 6s 1ms/step - loss: 0.7990 - accuracy: 0.7510 - val_loss: 0.8496 - val_accuracy: 0.7370\n",
            "Epoch 23/25\n",
            "5000/5000 [==============================] - 6s 1ms/step - loss: 0.7940 - accuracy: 0.7537 - val_loss: 0.8386 - val_accuracy: 0.7429\n",
            "Epoch 24/25\n",
            "5000/5000 [==============================] - 6s 1ms/step - loss: 0.7885 - accuracy: 0.7566 - val_loss: 0.8320 - val_accuracy: 0.7496\n",
            "Epoch 25/25\n",
            "5000/5000 [==============================] - 6s 1ms/step - loss: 0.7853 - accuracy: 0.7583 - val_loss: 0.8296 - val_accuracy: 0.7495\n"
          ],
          "name": "stdout"
        }
      ]
    },
    {
      "cell_type": "code",
      "metadata": {
        "id": "TklnwGuB06jJ",
        "colab_type": "code",
        "colab": {
          "base_uri": "https://localhost:8080/",
          "height": 204
        },
        "outputId": "825a42ef-f489-4a3e-e28d-b1fbe23f9945"
      },
      "source": [
        "import seaborn as sns\n",
        "import pandas as pd\n",
        "\n",
        "optimizers = []\n",
        "\n",
        "for exp, result in zip([bt_adadelta, bt_adagrad, bt_adam, bt_adamax, bt_sgd], [\"Adadelta_\", \"Adagrad_\", \"Adam_\", \"Adamax_\", \"SGD_\"]):\n",
        "\n",
        "  df = pd.DataFrame.from_dict(exp.history)\n",
        "  df['epoch'] = df.index.values\n",
        "  df['Optimizer'] = result\n",
        "\n",
        "  optimizers.append(df)\n",
        "\n",
        "df = pd.concat(optimizers)\n",
        "df['Optimizer'] = df['Optimizer'].astype('str')\n",
        "df.head()"
      ],
      "execution_count": 58,
      "outputs": [
        {
          "output_type": "execute_result",
          "data": {
            "text/html": [
              "<div>\n",
              "<style scoped>\n",
              "    .dataframe tbody tr th:only-of-type {\n",
              "        vertical-align: middle;\n",
              "    }\n",
              "\n",
              "    .dataframe tbody tr th {\n",
              "        vertical-align: top;\n",
              "    }\n",
              "\n",
              "    .dataframe thead th {\n",
              "        text-align: right;\n",
              "    }\n",
              "</style>\n",
              "<table border=\"1\" class=\"dataframe\">\n",
              "  <thead>\n",
              "    <tr style=\"text-align: right;\">\n",
              "      <th></th>\n",
              "      <th>loss</th>\n",
              "      <th>accuracy</th>\n",
              "      <th>val_loss</th>\n",
              "      <th>val_accuracy</th>\n",
              "      <th>epoch</th>\n",
              "      <th>Optimizer</th>\n",
              "    </tr>\n",
              "  </thead>\n",
              "  <tbody>\n",
              "    <tr>\n",
              "      <th>0</th>\n",
              "      <td>98.200989</td>\n",
              "      <td>0.095362</td>\n",
              "      <td>63.127308</td>\n",
              "      <td>0.10115</td>\n",
              "      <td>0</td>\n",
              "      <td>Adadelta_</td>\n",
              "    </tr>\n",
              "    <tr>\n",
              "      <th>1</th>\n",
              "      <td>50.470722</td>\n",
              "      <td>0.127037</td>\n",
              "      <td>42.020565</td>\n",
              "      <td>0.14575</td>\n",
              "      <td>1</td>\n",
              "      <td>Adadelta_</td>\n",
              "    </tr>\n",
              "    <tr>\n",
              "      <th>2</th>\n",
              "      <td>36.511124</td>\n",
              "      <td>0.164725</td>\n",
              "      <td>32.552734</td>\n",
              "      <td>0.17620</td>\n",
              "      <td>2</td>\n",
              "      <td>Adadelta_</td>\n",
              "    </tr>\n",
              "    <tr>\n",
              "      <th>3</th>\n",
              "      <td>29.467224</td>\n",
              "      <td>0.190625</td>\n",
              "      <td>26.993116</td>\n",
              "      <td>0.19730</td>\n",
              "      <td>3</td>\n",
              "      <td>Adadelta_</td>\n",
              "    </tr>\n",
              "    <tr>\n",
              "      <th>4</th>\n",
              "      <td>24.973137</td>\n",
              "      <td>0.209025</td>\n",
              "      <td>23.161051</td>\n",
              "      <td>0.21475</td>\n",
              "      <td>4</td>\n",
              "      <td>Adadelta_</td>\n",
              "    </tr>\n",
              "  </tbody>\n",
              "</table>\n",
              "</div>"
            ],
            "text/plain": [
              "        loss  accuracy   val_loss  val_accuracy  epoch  Optimizer\n",
              "0  98.200989  0.095362  63.127308       0.10115      0  Adadelta_\n",
              "1  50.470722  0.127037  42.020565       0.14575      1  Adadelta_\n",
              "2  36.511124  0.164725  32.552734       0.17620      2  Adadelta_\n",
              "3  29.467224  0.190625  26.993116       0.19730      3  Adadelta_\n",
              "4  24.973137  0.209025  23.161051       0.21475      4  Adadelta_"
            ]
          },
          "metadata": {
            "tags": []
          },
          "execution_count": 58
        }
      ]
    },
    {
      "cell_type": "code",
      "metadata": {
        "id": "9rY82BeP1Uu4",
        "colab_type": "code",
        "colab": {
          "base_uri": "https://localhost:8080/",
          "height": 279
        },
        "outputId": "d74ccded-52d1-4965-b8a0-cbd3345986e2"
      },
      "source": [
        "sns.lineplot(x='epoch', y='val_accuracy', hue='Optimizer', data=df);"
      ],
      "execution_count": 59,
      "outputs": [
        {
          "output_type": "display_data",
          "data": {
            "image/png": "[encoded data removed]",
            "text/plain": [
              "<Figure size 432x288 with 1 Axes>"
            ]
          },
          "metadata": {
            "tags": [],
            "needs_background": "light"
          }
        }
      ]
    },
    {
      "cell_type": "code",
      "metadata": {
        "id": "XJwaJF7w1aos",
        "colab_type": "code",
        "colab": {
          "base_uri": "https://localhost:8080/",
          "height": 279
        },
        "outputId": "091eebae-b3b4-4914-f0a5-582736b7108d"
      },
      "source": [
        "sns.lineplot(x='epoch', y='val_loss', hue='Optimizer', data=df);"
      ],
      "execution_count": 60,
      "outputs": [
        {
          "output_type": "display_data",
          "data": {
            "image/png": "[encoded data removed]",
            "text/plain": [
              "<Figure size 432x288 with 1 Axes>"
            ]
          },
          "metadata": {
            "tags": [],
            "needs_background": "light"
          }
        }
      ]
    },
    {
      "cell_type": "markdown",
      "metadata": {
        "id": "do0nEVvVFa3A",
        "colab_type": "text"
      },
      "source": [
        "The best performing model was the one with the Adamax optimizer. It had a 1.97% decrease of validation accuracy compared to the previous model and a 66.75% increase of validation accuracy compared to yesterday's model. It seems that Adagrad and Adadelta are the worst in terms of validation accuracy."
      ]
    },
    {
      "cell_type": "markdown",
      "metadata": {
        "id": "ydAqeY9S8uHA",
        "colab_type": "text"
      },
      "source": [
        "### Additional Written Tasks\n",
        "\n",
        "1. Describe the process of backpropagation in your own words: \n",
        "```\n",
        "The Backpropagation algorithm looks for the minimum value of the error function in weight space using a technique called the delta rule or gradient descent. The weights that minimize the error function is then considered to be a solution to the learning problem.\n",
        "```\n",
        "\n"
      ]
    },
    {
      "cell_type": "markdown",
      "metadata": {
        "colab_type": "text",
        "id": "FwlRJSfBlCvy"
      },
      "source": [
        "## Stretch Goals: \n",
        "\n",
        "- Implement GridSearch on anyone of the experiments\n",
        "- On the learning rate experiments, implement [EarlyStopping](https://www.tensorflow.org/api_docs/python/tf/keras/callbacks/EarlyStopping)\n",
        "- Review material on the math behind gradient descent: \n",
        "\n",
        "  - Gradient Descent\n",
        "    - Gradient Descent, Step-by-Step  by StatQuest w/ Josh Starmer. This will help you understand the gradient descent based optimization that happens underneath the hood of neural networks. It uses a non-neural network example, which I believe is a gentler introduction. You will hear me refer to this technique as \"vanilla\" gradient descent. \n",
        "    - Stochastic Gradient Descent, Clearly Explained!!! by StatQuest w/ Josh Starmer. This builds on the techniques in the previous video.  This technique is the one that is actually implemented inside modern 'nets. \n",
        "These are great resources to help you understand tomorrow's material at a deeper level. I highly recommend watching these ahead of tomorrow.\n",
        "\n",
        "  - Background Math\n",
        "    - Dot products and duality by 3Blue1Brown. Explains the core linear algebra operation happening in today's perceptron.\n",
        "The paradox of the derivative by 3Blue1Brown. Does a great job explaining a derivative. \n",
        "    - Visualizing the chain rule and product rule by 3Blue1Brown. Explains the black magic that happens within Stochastic Gradient Descent. \n",
        "These math resources are very much optional. They can be very heady, but I encourage you to explore. Your understanding of neural networks will greatly increase if you understand this math background.\n",
        "\n",
        "\n"
      ]
    }
  ]
}